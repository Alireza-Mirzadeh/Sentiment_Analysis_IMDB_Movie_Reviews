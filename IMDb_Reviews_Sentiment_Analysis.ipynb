{
  "cells": [
    {
      "cell_type": "markdown",
      "metadata": {
        "id": "Qgh6FRDaN7y3"
      },
      "source": [
        "# IMDb Reviews Sentiment Analysis"
      ]
    },
    {
      "cell_type": "code",
      "execution_count": null,
      "metadata": {
        "id": "2fU-93MPNmlo"
      },
      "outputs": [],
      "source": [
        "import pandas as pd\n",
        "import numpy as np\n",
        "import matplotlib.pyplot as plt\n",
        "import seaborn as sns\n",
        "from wordcloud import WordCloud\n",
        "import nltk\n",
        "from nltk.corpus import stopwords\n",
        "from nltk.tokenize import word_tokenize\n",
        "from nltk.stem import WordNetLemmatizer\n",
        "from sklearn.feature_extraction.text import TfidfVectorizer\n",
        "from sklearn.linear_model import LogisticRegression\n",
        "from sklearn.svm import SVC\n",
        "from sklearn.ensemble import RandomForestClassifier, GradientBoostingClassifier\n",
        "from sklearn.naive_bayes import MultinomialNB\n",
        "from xgboost import XGBClassifier\n",
        "from lightgbm import LGBMClassifier\n",
        "from sklearn.model_selection import cross_validate\n",
        "from sklearn.metrics import accuracy_score, classification_report, confusion_matrix, precision_score, recall_score, f1_score\n",
        "from sklearn.model_selection import StratifiedKFold\n",
        "from joblib import load\n",
        "from sklearn.model_selection import GridSearchCV"
      ]
    },
    {
      "cell_type": "code",
      "execution_count": null,
      "metadata": {
        "colab": {
          "base_uri": "https://localhost:8080/"
        },
        "id": "fIdXZINcX3pQ",
        "outputId": "d595cd5c-78de-4143-f37c-6a0afd1ba880"
      },
      "outputs": [
        {
          "name": "stderr",
          "output_type": "stream",
          "text": [
            "[nltk_data] Downloading package stopwords to /root/nltk_data...\n",
            "[nltk_data]   Package stopwords is already up-to-date!\n",
            "[nltk_data] Downloading package punkt_tab to /root/nltk_data...\n",
            "[nltk_data]   Package punkt_tab is already up-to-date!\n",
            "[nltk_data] Downloading package wordnet to /root/nltk_data...\n",
            "[nltk_data]   Package wordnet is already up-to-date!\n"
          ]
        },
        {
          "data": {
            "text/plain": [
              "True"
            ]
          },
          "execution_count": 2,
          "metadata": {},
          "output_type": "execute_result"
        }
      ],
      "source": [
        "nltk.download('stopwords')\n",
        "nltk.download(\"punkt_tab\")\n",
        "nltk.download('wordnet')"
      ]
    },
    {
      "cell_type": "markdown",
      "metadata": {},
      "source": [
        "# Load Data"
      ]
    },
    {
      "cell_type": "code",
      "execution_count": null,
      "metadata": {
        "colab": {
          "base_uri": "https://localhost:8080/",
          "height": 206
        },
        "id": "Kcxh1bLnORuI",
        "outputId": "6fd0c759-7548-4d1c-a6f9-97e8ecc18a6b"
      },
      "outputs": [
        {
          "data": {
            "application/vnd.google.colaboratory.intrinsic+json": {
              "summary": "{\n  \"name\": \"df_train\",\n  \"rows\": 40000,\n  \"fields\": [\n    {\n      \"column\": \"text\",\n      \"properties\": {\n        \"dtype\": \"string\",\n        \"num_unique_values\": 39723,\n        \"samples\": [\n          \"There are similarities between Ray Lawrence's \\\"Jindabyne\\\" and his last movie \\\"Lantana\\\" \\u0096 a dead body and its repercussions for already dysfunctional lives. But whereas \\\"Lantana\\\" offered some hope and resolution, \\\"Jindabyne\\\" leaves everything unresolved in a bleak way that will leave most viewers unsatisfied, perhaps even cheated.<br /><br />The storyline - the aftermath of a fisherman's discovery of a corpse floating in a remote river - is based on a short story by Raymond Carver. It became an element in Robert Altman's classic 1993 ensemble \\\"Short Cuts\\\". Lawrence uses this theme for an exploration and exposition of relationships within a small Australian community under stress. The movie poses some moral questions \\\"Would you let the discovery of a dead body ruin your good weekend?\\\" and more poignantly for Australians \\\"Would it make any difference if the dead person was an aboriginal?\\\" The acting, especially by Gabriel Byrne and Laura Linney, is commendable. And there are elements of mysticism reinforced by haunting music, not unlike \\\"Picnic at Hanging Rock\\\".<br /><br />If all this sounds like the basis for a great movie - be prepared for a let down, the pace is very slow and the murder is shown near the beginning, thereby eliminating the element of mystery. And so we are left with these desolate lives and a blank finale.\",\n          \"Hammer House of Horror: Witching Time is set in rural England on Woodstock farm where stressed musician David Winter (Jon Finch) lives with his actress wife Mary (Prunella Gee) & is currently composing the music for a horror film. One night while looking for his dog Billy David finds a mysterious woman in his barn, calling herself Lucinda Jessop (Patricia Quinn) she claims to be a witch who has transported herself from 300 years in the past to now. Obviously rather sceptical David has a hard time believing her so he locks her in a room in his farmhouse & calls his doctor Charles (Ian McCulloch) to come examine her, however once he arrives & they enter the room Lucinda has disappeared. Charles puts it down to David drinking too much but over the next few day strange & disturbing things begin to happen to David & Mary...<br /><br />Witching Time was episode 1 from the short lived British anthology horror series produced by Hammer studios for TV & originally aired here in the UK during September 1980, the first of two Hammer House of Horror episodes to be directed by Don Leaver (episode 13 The Mark of Satan being the other) I actually rather liked this. As a series Hammer House of Horror dealt with various different themes & were all unconnected to each other except in name & unsurprisingly Watching Time is a sinister & effective little tale about a witch, the script by Anthony Read benefits from it's slight 50 odd minute duration & moves along at a nice pace. The character's are pretty good as is the dialogue, there are some nice scenes here & I liked the way it never quite reveals whether David & Mary are going crazy or not. I think it's a well structured, entertaining & reasonably creepy horror themed TV show that I enjoyed more than I thought I would.<br /><br />Being made for British TV meant the boys at Hammer had a lower budget than usual, if that was even possible, & as such there is no gorgeous period settings here as in their most well know Frankenstein & Dracula films although the contemporary English setting does give it a certain atmosphere that you can relate to a bit more. Another TV based restriction is that the exploitation levels are lower than you might hope for, there's some nudity & gore but not much although I didn't mind too much as the story here is pretty good. It's well made for what it is & Hammer's experience on their feature films probably helped make these look pretty good, the acting is good as well with genre favourite Ian McCulloch making a bit-part appearance.<br /><br />Witching Time is a good start to the Hammer House of Horror series, as a 50 minute piece of British TV it's pretty damned good, now why don't they make show's like this over here anymore?\",\n          \"What a great cast for this movie. The timing was excellent and there were so many clever lines-several times I was still laughing minutes after they were delivered. I found Manna From Heaven to have some surprising moments and while there were things I was thinking would happen, the way they came together was anything but predictable. This movie is about hope and righting wrongs. I left the theater feeling inspired to do the right thing. Bravo to the Five Sisters.\"\n        ],\n        \"semantic_type\": \"\",\n        \"description\": \"\"\n      }\n    },\n    {\n      \"column\": \"label\",\n      \"properties\": {\n        \"dtype\": \"number\",\n        \"std\": 0,\n        \"min\": 0,\n        \"max\": 1,\n        \"num_unique_values\": 2,\n        \"samples\": [\n          1,\n          0\n        ],\n        \"semantic_type\": \"\",\n        \"description\": \"\"\n      }\n    }\n  ]\n}",
              "type": "dataframe",
              "variable_name": "df_train"
            },
            "text/html": [
              "\n",
              "  <div id=\"df-71cf4a9b-a730-423a-9767-c9680b198fc7\" class=\"colab-df-container\">\n",
              "    <div>\n",
              "<style scoped>\n",
              "    .dataframe tbody tr th:only-of-type {\n",
              "        vertical-align: middle;\n",
              "    }\n",
              "\n",
              "    .dataframe tbody tr th {\n",
              "        vertical-align: top;\n",
              "    }\n",
              "\n",
              "    .dataframe thead th {\n",
              "        text-align: right;\n",
              "    }\n",
              "</style>\n",
              "<table border=\"1\" class=\"dataframe\">\n",
              "  <thead>\n",
              "    <tr style=\"text-align: right;\">\n",
              "      <th></th>\n",
              "      <th>text</th>\n",
              "      <th>label</th>\n",
              "    </tr>\n",
              "  </thead>\n",
              "  <tbody>\n",
              "    <tr>\n",
              "      <th>0</th>\n",
              "      <td>I grew up (b. 1965) watching and loving the Th...</td>\n",
              "      <td>0</td>\n",
              "    </tr>\n",
              "    <tr>\n",
              "      <th>1</th>\n",
              "      <td>When I put this movie in my DVD player, and sa...</td>\n",
              "      <td>0</td>\n",
              "    </tr>\n",
              "    <tr>\n",
              "      <th>2</th>\n",
              "      <td>Why do people who do not know what a particula...</td>\n",
              "      <td>0</td>\n",
              "    </tr>\n",
              "    <tr>\n",
              "      <th>3</th>\n",
              "      <td>Even though I have great interest in Biblical ...</td>\n",
              "      <td>0</td>\n",
              "    </tr>\n",
              "    <tr>\n",
              "      <th>4</th>\n",
              "      <td>Im a die hard Dads Army fan and nothing will e...</td>\n",
              "      <td>1</td>\n",
              "    </tr>\n",
              "  </tbody>\n",
              "</table>\n",
              "</div>\n",
              "    <div class=\"colab-df-buttons\">\n",
              "\n",
              "  <div class=\"colab-df-container\">\n",
              "    <button class=\"colab-df-convert\" onclick=\"convertToInteractive('df-71cf4a9b-a730-423a-9767-c9680b198fc7')\"\n",
              "            title=\"Convert this dataframe to an interactive table.\"\n",
              "            style=\"display:none;\">\n",
              "\n",
              "  <svg xmlns=\"http://www.w3.org/2000/svg\" height=\"24px\" viewBox=\"0 -960 960 960\">\n",
              "    <path d=\"M120-120v-720h720v720H120Zm60-500h600v-160H180v160Zm220 220h160v-160H400v160Zm0 220h160v-160H400v160ZM180-400h160v-160H180v160Zm440 0h160v-160H620v160ZM180-180h160v-160H180v160Zm440 0h160v-160H620v160Z\"/>\n",
              "  </svg>\n",
              "    </button>\n",
              "\n",
              "  <style>\n",
              "    .colab-df-container {\n",
              "      display:flex;\n",
              "      gap: 12px;\n",
              "    }\n",
              "\n",
              "    .colab-df-convert {\n",
              "      background-color: #E8F0FE;\n",
              "      border: none;\n",
              "      border-radius: 50%;\n",
              "      cursor: pointer;\n",
              "      display: none;\n",
              "      fill: #1967D2;\n",
              "      height: 32px;\n",
              "      padding: 0 0 0 0;\n",
              "      width: 32px;\n",
              "    }\n",
              "\n",
              "    .colab-df-convert:hover {\n",
              "      background-color: #E2EBFA;\n",
              "      box-shadow: 0px 1px 2px rgba(60, 64, 67, 0.3), 0px 1px 3px 1px rgba(60, 64, 67, 0.15);\n",
              "      fill: #174EA6;\n",
              "    }\n",
              "\n",
              "    .colab-df-buttons div {\n",
              "      margin-bottom: 4px;\n",
              "    }\n",
              "\n",
              "    [theme=dark] .colab-df-convert {\n",
              "      background-color: #3B4455;\n",
              "      fill: #D2E3FC;\n",
              "    }\n",
              "\n",
              "    [theme=dark] .colab-df-convert:hover {\n",
              "      background-color: #434B5C;\n",
              "      box-shadow: 0px 1px 3px 1px rgba(0, 0, 0, 0.15);\n",
              "      filter: drop-shadow(0px 1px 2px rgba(0, 0, 0, 0.3));\n",
              "      fill: #FFFFFF;\n",
              "    }\n",
              "  </style>\n",
              "\n",
              "    <script>\n",
              "      const buttonEl =\n",
              "        document.querySelector('#df-71cf4a9b-a730-423a-9767-c9680b198fc7 button.colab-df-convert');\n",
              "      buttonEl.style.display =\n",
              "        google.colab.kernel.accessAllowed ? 'block' : 'none';\n",
              "\n",
              "      async function convertToInteractive(key) {\n",
              "        const element = document.querySelector('#df-71cf4a9b-a730-423a-9767-c9680b198fc7');\n",
              "        const dataTable =\n",
              "          await google.colab.kernel.invokeFunction('convertToInteractive',\n",
              "                                                    [key], {});\n",
              "        if (!dataTable) return;\n",
              "\n",
              "        const docLinkHtml = 'Like what you see? Visit the ' +\n",
              "          '<a target=\"_blank\" href=https://colab.research.google.com/notebooks/data_table.ipynb>data table notebook</a>'\n",
              "          + ' to learn more about interactive tables.';\n",
              "        element.innerHTML = '';\n",
              "        dataTable['output_type'] = 'display_data';\n",
              "        await google.colab.output.renderOutput(dataTable, element);\n",
              "        const docLink = document.createElement('div');\n",
              "        docLink.innerHTML = docLinkHtml;\n",
              "        element.appendChild(docLink);\n",
              "      }\n",
              "    </script>\n",
              "  </div>\n",
              "\n",
              "\n",
              "<div id=\"df-1558f3aa-61c5-410f-a5fa-4354ad8083cf\">\n",
              "  <button class=\"colab-df-quickchart\" onclick=\"quickchart('df-1558f3aa-61c5-410f-a5fa-4354ad8083cf')\"\n",
              "            title=\"Suggest charts\"\n",
              "            style=\"display:none;\">\n",
              "\n",
              "<svg xmlns=\"http://www.w3.org/2000/svg\" height=\"24px\"viewBox=\"0 0 24 24\"\n",
              "     width=\"24px\">\n",
              "    <g>\n",
              "        <path d=\"M19 3H5c-1.1 0-2 .9-2 2v14c0 1.1.9 2 2 2h14c1.1 0 2-.9 2-2V5c0-1.1-.9-2-2-2zM9 17H7v-7h2v7zm4 0h-2V7h2v10zm4 0h-2v-4h2v4z\"/>\n",
              "    </g>\n",
              "</svg>\n",
              "  </button>\n",
              "\n",
              "<style>\n",
              "  .colab-df-quickchart {\n",
              "      --bg-color: #E8F0FE;\n",
              "      --fill-color: #1967D2;\n",
              "      --hover-bg-color: #E2EBFA;\n",
              "      --hover-fill-color: #174EA6;\n",
              "      --disabled-fill-color: #AAA;\n",
              "      --disabled-bg-color: #DDD;\n",
              "  }\n",
              "\n",
              "  [theme=dark] .colab-df-quickchart {\n",
              "      --bg-color: #3B4455;\n",
              "      --fill-color: #D2E3FC;\n",
              "      --hover-bg-color: #434B5C;\n",
              "      --hover-fill-color: #FFFFFF;\n",
              "      --disabled-bg-color: #3B4455;\n",
              "      --disabled-fill-color: #666;\n",
              "  }\n",
              "\n",
              "  .colab-df-quickchart {\n",
              "    background-color: var(--bg-color);\n",
              "    border: none;\n",
              "    border-radius: 50%;\n",
              "    cursor: pointer;\n",
              "    display: none;\n",
              "    fill: var(--fill-color);\n",
              "    height: 32px;\n",
              "    padding: 0;\n",
              "    width: 32px;\n",
              "  }\n",
              "\n",
              "  .colab-df-quickchart:hover {\n",
              "    background-color: var(--hover-bg-color);\n",
              "    box-shadow: 0 1px 2px rgba(60, 64, 67, 0.3), 0 1px 3px 1px rgba(60, 64, 67, 0.15);\n",
              "    fill: var(--button-hover-fill-color);\n",
              "  }\n",
              "\n",
              "  .colab-df-quickchart-complete:disabled,\n",
              "  .colab-df-quickchart-complete:disabled:hover {\n",
              "    background-color: var(--disabled-bg-color);\n",
              "    fill: var(--disabled-fill-color);\n",
              "    box-shadow: none;\n",
              "  }\n",
              "\n",
              "  .colab-df-spinner {\n",
              "    border: 2px solid var(--fill-color);\n",
              "    border-color: transparent;\n",
              "    border-bottom-color: var(--fill-color);\n",
              "    animation:\n",
              "      spin 1s steps(1) infinite;\n",
              "  }\n",
              "\n",
              "  @keyframes spin {\n",
              "    0% {\n",
              "      border-color: transparent;\n",
              "      border-bottom-color: var(--fill-color);\n",
              "      border-left-color: var(--fill-color);\n",
              "    }\n",
              "    20% {\n",
              "      border-color: transparent;\n",
              "      border-left-color: var(--fill-color);\n",
              "      border-top-color: var(--fill-color);\n",
              "    }\n",
              "    30% {\n",
              "      border-color: transparent;\n",
              "      border-left-color: var(--fill-color);\n",
              "      border-top-color: var(--fill-color);\n",
              "      border-right-color: var(--fill-color);\n",
              "    }\n",
              "    40% {\n",
              "      border-color: transparent;\n",
              "      border-right-color: var(--fill-color);\n",
              "      border-top-color: var(--fill-color);\n",
              "    }\n",
              "    60% {\n",
              "      border-color: transparent;\n",
              "      border-right-color: var(--fill-color);\n",
              "    }\n",
              "    80% {\n",
              "      border-color: transparent;\n",
              "      border-right-color: var(--fill-color);\n",
              "      border-bottom-color: var(--fill-color);\n",
              "    }\n",
              "    90% {\n",
              "      border-color: transparent;\n",
              "      border-bottom-color: var(--fill-color);\n",
              "    }\n",
              "  }\n",
              "</style>\n",
              "\n",
              "  <script>\n",
              "    async function quickchart(key) {\n",
              "      const quickchartButtonEl =\n",
              "        document.querySelector('#' + key + ' button');\n",
              "      quickchartButtonEl.disabled = true;  // To prevent multiple clicks.\n",
              "      quickchartButtonEl.classList.add('colab-df-spinner');\n",
              "      try {\n",
              "        const charts = await google.colab.kernel.invokeFunction(\n",
              "            'suggestCharts', [key], {});\n",
              "      } catch (error) {\n",
              "        console.error('Error during call to suggestCharts:', error);\n",
              "      }\n",
              "      quickchartButtonEl.classList.remove('colab-df-spinner');\n",
              "      quickchartButtonEl.classList.add('colab-df-quickchart-complete');\n",
              "    }\n",
              "    (() => {\n",
              "      let quickchartButtonEl =\n",
              "        document.querySelector('#df-1558f3aa-61c5-410f-a5fa-4354ad8083cf button');\n",
              "      quickchartButtonEl.style.display =\n",
              "        google.colab.kernel.accessAllowed ? 'block' : 'none';\n",
              "    })();\n",
              "  </script>\n",
              "</div>\n",
              "\n",
              "    </div>\n",
              "  </div>\n"
            ],
            "text/plain": [
              "                                                text  label\n",
              "0  I grew up (b. 1965) watching and loving the Th...      0\n",
              "1  When I put this movie in my DVD player, and sa...      0\n",
              "2  Why do people who do not know what a particula...      0\n",
              "3  Even though I have great interest in Biblical ...      0\n",
              "4  Im a die hard Dads Army fan and nothing will e...      1"
            ]
          },
          "execution_count": 3,
          "metadata": {},
          "output_type": "execute_result"
        }
      ],
      "source": [
        "# Load the training dataset\n",
        "df_train = pd.read_csv(\"Train.csv\")\n",
        "df_train.head()"
      ]
    },
    {
      "cell_type": "code",
      "execution_count": null,
      "metadata": {
        "colab": {
          "base_uri": "https://localhost:8080/",
          "height": 206
        },
        "id": "anKFx4Bqv_-I",
        "outputId": "871f0adc-2733-49a5-cac8-50e4a43e28e8"
      },
      "outputs": [
        {
          "data": {
            "application/vnd.google.colaboratory.intrinsic+json": {
              "summary": "{\n  \"name\": \"df_test\",\n  \"rows\": 5000,\n  \"fields\": [\n    {\n      \"column\": \"text\",\n      \"properties\": {\n        \"dtype\": \"string\",\n        \"num_unique_values\": 4995,\n        \"samples\": [\n          \"I'm the sort of person who went down to the local library and read books on Babbage's difference engine whilst my schoolmates were playing football etc.. So, if there is any such thing as a target audience for this film, then I guess I'd probably be included in that.<br /><br />Maybe I just need to watch it again. A previous reviewer mentioned not to watch this film whilst being tired. Maybe that was my mistake.<br /><br />I tried my best to enjoy this film, and there are aspects of it that I do like, but overall I found it amateurish and quite plodding.<br /><br />Being somewhat of a self confessed computer nerd, I just can't help but pick up on the exact time frame when the movie was actually made, and how the employed graphics reflect that time (i.e. 1997). Having played games of the era c.f. \\\"Mind Grind\\\" to cite one example, this film cannot escape that 16-bit colour low res multimedia explosion of that time. Now thankfully this has somewhat lessened in more recent years in the gaming world at least, in favour of actual game play.<br /><br />Having to resort to watching this movie via a German FTA satellite channel (as I don't think it's ever been aired on UK FTA TV, well not recently anyway), I was mildly amused to see the end credits note Gottdog (God dog) had 4 people working on it's design. Maybe it's mean spirited of me to be amused by this, given that ten years have elapsed since the movie was made, nevertheless the end result makes movie graphics from the eighties look good by comparison.<br /><br />But, as for the main story, I agree that the format isn't the best idea. Like others I agree that Ada deserves a film without the sci-fi angle, and a more straightforward biographical approach would perhaps be better suited to covering the life story of this remarkable lady.<br /><br />There are fundamental mistakes that undermine my enjoyment of this movie. First of all the underlying idea that somehow lost real-world information from the past can be accurately reconstructed through some sort of extrapolation via software based intelligent agents, seems somehow ludicrous.<br /><br />Also, the theme running through the movie that a computing device can indeed predict the mechanics of all things through the course of time (e.g. the winds) is now known not to be the case.<br /><br />OK, so the Victorians may have held this view, but the 20th century works of G\\u00f6del proving that no mathematical system can be complete, Turing's works on the limits of computability, not to mention chaos theory and quantum mechanics, have all completely undermined these ideas, which seem central to how the modern day researcher's software is supposed to work.<br /><br />Finally, the clicking of the mouse in the air to mean \\\"programming\\\" is also just plain wrong, as previously mentioned.<br /><br />This film maybe could have been OK, but at least some technical and scientific consultation would have given the film some much needed credit in the believability stakes.<br /><br />I won't forget the film though, as like \\\"Pi\\\", it is clearly a unique work, but with too many fatal mistakes for me to truly enjoy it, 3/10 from me.\",\n          \"I have two good things to say about this film: the scenery is beautiful and Peter Falk gives a good performance (considering what he had to work with in terms of dialog and direction). However, that said, I found this film extremely tiresome. Watching paint dry would have been more entertaining. It seemed much longer than 97 minutes. Beginning with opening sequence, where everyone is talking over each other and Paul Reiser is repeating everything that's said to him on the phone, the movie is annoying. The film is filled with clich\\u00e9s and shtick, not to mention endless incidents of audible flatulence by Falk. Also, the director seems to have had difficulty deciding whether to aim for laughs or tears. There are some sequences that are touching, but they're all played for laughs. If schmaltzy, sentimental, and \\\"cute\\\" appeal to you, you'll love it. But if you were hoping for something with more substance, see a different movie.\",\n          \"Strained and humorless (especially in light of its rather dubious psychology), but well-paced and comfortably lurid, this genteel body count movie highlights the unusually hypnotic presence of Angharad Rees as a young woman periodically possessed by Jack the Ripper, thus allowing for some nasty gore effects amidst the Edwardian propriety. It's all pretty standard stuff for Hammer, but is handled with a good deal of visual elan, even if the central relationship, between psychoanalyst Porter and Rees, drives the narrative without ever being satisfactorily explained.\"\n        ],\n        \"semantic_type\": \"\",\n        \"description\": \"\"\n      }\n    },\n    {\n      \"column\": \"label\",\n      \"properties\": {\n        \"dtype\": \"number\",\n        \"std\": 0,\n        \"min\": 0,\n        \"max\": 1,\n        \"num_unique_values\": 2,\n        \"samples\": [\n          1,\n          0\n        ],\n        \"semantic_type\": \"\",\n        \"description\": \"\"\n      }\n    }\n  ]\n}",
              "type": "dataframe",
              "variable_name": "df_test"
            },
            "text/html": [
              "\n",
              "  <div id=\"df-3675b3c1-202f-4c06-8e08-e2434a3c3576\" class=\"colab-df-container\">\n",
              "    <div>\n",
              "<style scoped>\n",
              "    .dataframe tbody tr th:only-of-type {\n",
              "        vertical-align: middle;\n",
              "    }\n",
              "\n",
              "    .dataframe tbody tr th {\n",
              "        vertical-align: top;\n",
              "    }\n",
              "\n",
              "    .dataframe thead th {\n",
              "        text-align: right;\n",
              "    }\n",
              "</style>\n",
              "<table border=\"1\" class=\"dataframe\">\n",
              "  <thead>\n",
              "    <tr style=\"text-align: right;\">\n",
              "      <th></th>\n",
              "      <th>text</th>\n",
              "      <th>label</th>\n",
              "    </tr>\n",
              "  </thead>\n",
              "  <tbody>\n",
              "    <tr>\n",
              "      <th>0</th>\n",
              "      <td>I always wrote this series off as being a comp...</td>\n",
              "      <td>0</td>\n",
              "    </tr>\n",
              "    <tr>\n",
              "      <th>1</th>\n",
              "      <td>1st watched 12/7/2002 - 3 out of 10(Dir-Steve ...</td>\n",
              "      <td>0</td>\n",
              "    </tr>\n",
              "    <tr>\n",
              "      <th>2</th>\n",
              "      <td>This movie was so poorly written and directed ...</td>\n",
              "      <td>0</td>\n",
              "    </tr>\n",
              "    <tr>\n",
              "      <th>3</th>\n",
              "      <td>The most interesting thing about Miryang (Secr...</td>\n",
              "      <td>1</td>\n",
              "    </tr>\n",
              "    <tr>\n",
              "      <th>4</th>\n",
              "      <td>when i first read about \"berlin am meer\" i did...</td>\n",
              "      <td>0</td>\n",
              "    </tr>\n",
              "  </tbody>\n",
              "</table>\n",
              "</div>\n",
              "    <div class=\"colab-df-buttons\">\n",
              "\n",
              "  <div class=\"colab-df-container\">\n",
              "    <button class=\"colab-df-convert\" onclick=\"convertToInteractive('df-3675b3c1-202f-4c06-8e08-e2434a3c3576')\"\n",
              "            title=\"Convert this dataframe to an interactive table.\"\n",
              "            style=\"display:none;\">\n",
              "\n",
              "  <svg xmlns=\"http://www.w3.org/2000/svg\" height=\"24px\" viewBox=\"0 -960 960 960\">\n",
              "    <path d=\"M120-120v-720h720v720H120Zm60-500h600v-160H180v160Zm220 220h160v-160H400v160Zm0 220h160v-160H400v160ZM180-400h160v-160H180v160Zm440 0h160v-160H620v160ZM180-180h160v-160H180v160Zm440 0h160v-160H620v160Z\"/>\n",
              "  </svg>\n",
              "    </button>\n",
              "\n",
              "  <style>\n",
              "    .colab-df-container {\n",
              "      display:flex;\n",
              "      gap: 12px;\n",
              "    }\n",
              "\n",
              "    .colab-df-convert {\n",
              "      background-color: #E8F0FE;\n",
              "      border: none;\n",
              "      border-radius: 50%;\n",
              "      cursor: pointer;\n",
              "      display: none;\n",
              "      fill: #1967D2;\n",
              "      height: 32px;\n",
              "      padding: 0 0 0 0;\n",
              "      width: 32px;\n",
              "    }\n",
              "\n",
              "    .colab-df-convert:hover {\n",
              "      background-color: #E2EBFA;\n",
              "      box-shadow: 0px 1px 2px rgba(60, 64, 67, 0.3), 0px 1px 3px 1px rgba(60, 64, 67, 0.15);\n",
              "      fill: #174EA6;\n",
              "    }\n",
              "\n",
              "    .colab-df-buttons div {\n",
              "      margin-bottom: 4px;\n",
              "    }\n",
              "\n",
              "    [theme=dark] .colab-df-convert {\n",
              "      background-color: #3B4455;\n",
              "      fill: #D2E3FC;\n",
              "    }\n",
              "\n",
              "    [theme=dark] .colab-df-convert:hover {\n",
              "      background-color: #434B5C;\n",
              "      box-shadow: 0px 1px 3px 1px rgba(0, 0, 0, 0.15);\n",
              "      filter: drop-shadow(0px 1px 2px rgba(0, 0, 0, 0.3));\n",
              "      fill: #FFFFFF;\n",
              "    }\n",
              "  </style>\n",
              "\n",
              "    <script>\n",
              "      const buttonEl =\n",
              "        document.querySelector('#df-3675b3c1-202f-4c06-8e08-e2434a3c3576 button.colab-df-convert');\n",
              "      buttonEl.style.display =\n",
              "        google.colab.kernel.accessAllowed ? 'block' : 'none';\n",
              "\n",
              "      async function convertToInteractive(key) {\n",
              "        const element = document.querySelector('#df-3675b3c1-202f-4c06-8e08-e2434a3c3576');\n",
              "        const dataTable =\n",
              "          await google.colab.kernel.invokeFunction('convertToInteractive',\n",
              "                                                    [key], {});\n",
              "        if (!dataTable) return;\n",
              "\n",
              "        const docLinkHtml = 'Like what you see? Visit the ' +\n",
              "          '<a target=\"_blank\" href=https://colab.research.google.com/notebooks/data_table.ipynb>data table notebook</a>'\n",
              "          + ' to learn more about interactive tables.';\n",
              "        element.innerHTML = '';\n",
              "        dataTable['output_type'] = 'display_data';\n",
              "        await google.colab.output.renderOutput(dataTable, element);\n",
              "        const docLink = document.createElement('div');\n",
              "        docLink.innerHTML = docLinkHtml;\n",
              "        element.appendChild(docLink);\n",
              "      }\n",
              "    </script>\n",
              "  </div>\n",
              "\n",
              "\n",
              "<div id=\"df-266b0a3e-7a80-439d-95ab-ce453c6e9a3a\">\n",
              "  <button class=\"colab-df-quickchart\" onclick=\"quickchart('df-266b0a3e-7a80-439d-95ab-ce453c6e9a3a')\"\n",
              "            title=\"Suggest charts\"\n",
              "            style=\"display:none;\">\n",
              "\n",
              "<svg xmlns=\"http://www.w3.org/2000/svg\" height=\"24px\"viewBox=\"0 0 24 24\"\n",
              "     width=\"24px\">\n",
              "    <g>\n",
              "        <path d=\"M19 3H5c-1.1 0-2 .9-2 2v14c0 1.1.9 2 2 2h14c1.1 0 2-.9 2-2V5c0-1.1-.9-2-2-2zM9 17H7v-7h2v7zm4 0h-2V7h2v10zm4 0h-2v-4h2v4z\"/>\n",
              "    </g>\n",
              "</svg>\n",
              "  </button>\n",
              "\n",
              "<style>\n",
              "  .colab-df-quickchart {\n",
              "      --bg-color: #E8F0FE;\n",
              "      --fill-color: #1967D2;\n",
              "      --hover-bg-color: #E2EBFA;\n",
              "      --hover-fill-color: #174EA6;\n",
              "      --disabled-fill-color: #AAA;\n",
              "      --disabled-bg-color: #DDD;\n",
              "  }\n",
              "\n",
              "  [theme=dark] .colab-df-quickchart {\n",
              "      --bg-color: #3B4455;\n",
              "      --fill-color: #D2E3FC;\n",
              "      --hover-bg-color: #434B5C;\n",
              "      --hover-fill-color: #FFFFFF;\n",
              "      --disabled-bg-color: #3B4455;\n",
              "      --disabled-fill-color: #666;\n",
              "  }\n",
              "\n",
              "  .colab-df-quickchart {\n",
              "    background-color: var(--bg-color);\n",
              "    border: none;\n",
              "    border-radius: 50%;\n",
              "    cursor: pointer;\n",
              "    display: none;\n",
              "    fill: var(--fill-color);\n",
              "    height: 32px;\n",
              "    padding: 0;\n",
              "    width: 32px;\n",
              "  }\n",
              "\n",
              "  .colab-df-quickchart:hover {\n",
              "    background-color: var(--hover-bg-color);\n",
              "    box-shadow: 0 1px 2px rgba(60, 64, 67, 0.3), 0 1px 3px 1px rgba(60, 64, 67, 0.15);\n",
              "    fill: var(--button-hover-fill-color);\n",
              "  }\n",
              "\n",
              "  .colab-df-quickchart-complete:disabled,\n",
              "  .colab-df-quickchart-complete:disabled:hover {\n",
              "    background-color: var(--disabled-bg-color);\n",
              "    fill: var(--disabled-fill-color);\n",
              "    box-shadow: none;\n",
              "  }\n",
              "\n",
              "  .colab-df-spinner {\n",
              "    border: 2px solid var(--fill-color);\n",
              "    border-color: transparent;\n",
              "    border-bottom-color: var(--fill-color);\n",
              "    animation:\n",
              "      spin 1s steps(1) infinite;\n",
              "  }\n",
              "\n",
              "  @keyframes spin {\n",
              "    0% {\n",
              "      border-color: transparent;\n",
              "      border-bottom-color: var(--fill-color);\n",
              "      border-left-color: var(--fill-color);\n",
              "    }\n",
              "    20% {\n",
              "      border-color: transparent;\n",
              "      border-left-color: var(--fill-color);\n",
              "      border-top-color: var(--fill-color);\n",
              "    }\n",
              "    30% {\n",
              "      border-color: transparent;\n",
              "      border-left-color: var(--fill-color);\n",
              "      border-top-color: var(--fill-color);\n",
              "      border-right-color: var(--fill-color);\n",
              "    }\n",
              "    40% {\n",
              "      border-color: transparent;\n",
              "      border-right-color: var(--fill-color);\n",
              "      border-top-color: var(--fill-color);\n",
              "    }\n",
              "    60% {\n",
              "      border-color: transparent;\n",
              "      border-right-color: var(--fill-color);\n",
              "    }\n",
              "    80% {\n",
              "      border-color: transparent;\n",
              "      border-right-color: var(--fill-color);\n",
              "      border-bottom-color: var(--fill-color);\n",
              "    }\n",
              "    90% {\n",
              "      border-color: transparent;\n",
              "      border-bottom-color: var(--fill-color);\n",
              "    }\n",
              "  }\n",
              "</style>\n",
              "\n",
              "  <script>\n",
              "    async function quickchart(key) {\n",
              "      const quickchartButtonEl =\n",
              "        document.querySelector('#' + key + ' button');\n",
              "      quickchartButtonEl.disabled = true;  // To prevent multiple clicks.\n",
              "      quickchartButtonEl.classList.add('colab-df-spinner');\n",
              "      try {\n",
              "        const charts = await google.colab.kernel.invokeFunction(\n",
              "            'suggestCharts', [key], {});\n",
              "      } catch (error) {\n",
              "        console.error('Error during call to suggestCharts:', error);\n",
              "      }\n",
              "      quickchartButtonEl.classList.remove('colab-df-spinner');\n",
              "      quickchartButtonEl.classList.add('colab-df-quickchart-complete');\n",
              "    }\n",
              "    (() => {\n",
              "      let quickchartButtonEl =\n",
              "        document.querySelector('#df-266b0a3e-7a80-439d-95ab-ce453c6e9a3a button');\n",
              "      quickchartButtonEl.style.display =\n",
              "        google.colab.kernel.accessAllowed ? 'block' : 'none';\n",
              "    })();\n",
              "  </script>\n",
              "</div>\n",
              "\n",
              "    </div>\n",
              "  </div>\n"
            ],
            "text/plain": [
              "                                                text  label\n",
              "0  I always wrote this series off as being a comp...      0\n",
              "1  1st watched 12/7/2002 - 3 out of 10(Dir-Steve ...      0\n",
              "2  This movie was so poorly written and directed ...      0\n",
              "3  The most interesting thing about Miryang (Secr...      1\n",
              "4  when i first read about \"berlin am meer\" i did...      0"
            ]
          },
          "execution_count": 4,
          "metadata": {},
          "output_type": "execute_result"
        }
      ],
      "source": [
        "# Load the test dataset\n",
        "df_test = pd.read_csv(\"Test.csv\")\n",
        "df_test.head()"
      ]
    },
    {
      "cell_type": "markdown",
      "metadata": {
        "id": "Qjzhx9PTPK7r"
      },
      "source": [
        "## Exploratory data analysis (EDA) of Training data"
      ]
    },
    {
      "cell_type": "code",
      "execution_count": null,
      "metadata": {
        "colab": {
          "base_uri": "https://localhost:8080/"
        },
        "id": "ZQ2oVuqfOjun",
        "outputId": "768a04e0-d0d9-48e3-f8f4-2bce91da7a1c"
      },
      "outputs": [
        {
          "name": "stdout",
          "output_type": "stream",
          "text": [
            "Number of rows and columns: (40000, 2)\n"
          ]
        }
      ],
      "source": [
        "# Check the shape of the training dataset\n",
        "print(f'Number of rows and columns: {df_train.shape}')"
      ]
    },
    {
      "cell_type": "code",
      "execution_count": null,
      "metadata": {
        "colab": {
          "base_uri": "https://localhost:8080/"
        },
        "id": "IqueAo2xPQwD",
        "outputId": "0865d4a1-42ab-4ca5-ef66-c5342a203c5e"
      },
      "outputs": [
        {
          "name": "stdout",
          "output_type": "stream",
          "text": [
            "<class 'pandas.core.frame.DataFrame'>\n",
            "RangeIndex: 40000 entries, 0 to 39999\n",
            "Data columns (total 2 columns):\n",
            " #   Column  Non-Null Count  Dtype \n",
            "---  ------  --------------  ----- \n",
            " 0   text    40000 non-null  object\n",
            " 1   label   40000 non-null  int64 \n",
            "dtypes: int64(1), object(1)\n",
            "memory usage: 625.1+ KB\n"
          ]
        }
      ],
      "source": [
        "# Get general information about the training dataset\n",
        "df_train.info()"
      ]
    },
    {
      "cell_type": "code",
      "execution_count": null,
      "metadata": {
        "colab": {
          "base_uri": "https://localhost:8080/",
          "height": 178
        },
        "id": "t1ovlEmAPjo5",
        "outputId": "d89e01f3-a10b-4b9c-cdf0-220fab7e50e8"
      },
      "outputs": [
        {
          "data": {
            "text/html": [
              "<div>\n",
              "<style scoped>\n",
              "    .dataframe tbody tr th:only-of-type {\n",
              "        vertical-align: middle;\n",
              "    }\n",
              "\n",
              "    .dataframe tbody tr th {\n",
              "        vertical-align: top;\n",
              "    }\n",
              "\n",
              "    .dataframe thead th {\n",
              "        text-align: right;\n",
              "    }\n",
              "</style>\n",
              "<table border=\"1\" class=\"dataframe\">\n",
              "  <thead>\n",
              "    <tr style=\"text-align: right;\">\n",
              "      <th></th>\n",
              "      <th>count</th>\n",
              "    </tr>\n",
              "    <tr>\n",
              "      <th>label</th>\n",
              "      <th></th>\n",
              "    </tr>\n",
              "  </thead>\n",
              "  <tbody>\n",
              "    <tr>\n",
              "      <th>0</th>\n",
              "      <td>20019</td>\n",
              "    </tr>\n",
              "    <tr>\n",
              "      <th>1</th>\n",
              "      <td>19981</td>\n",
              "    </tr>\n",
              "  </tbody>\n",
              "</table>\n",
              "</div><br><label><b>dtype:</b> int64</label>"
            ],
            "text/plain": [
              "label\n",
              "0    20019\n",
              "1    19981\n",
              "Name: count, dtype: int64"
            ]
          },
          "execution_count": 7,
          "metadata": {},
          "output_type": "execute_result"
        }
      ],
      "source": [
        "# How many positive and negative reviews?\n",
        "label_value_counts = df_train['label'].value_counts()\n",
        "label_value_counts"
      ]
    },
    {
      "cell_type": "code",
      "execution_count": null,
      "metadata": {
        "colab": {
          "base_uri": "https://localhost:8080/",
          "height": 428
        },
        "id": "DZHxFNBTPz6K",
        "outputId": "fd92e6a6-c390-45c2-9151-8a644cf7fa56"
      },
      "outputs": [
        {
          "data": {
            "image/png": "[encoded data removed]",
            "text/plain": [
              "<Figure size 640x480 with 1 Axes>"
            ]
          },
          "metadata": {},
          "output_type": "display_data"
        }
      ],
      "source": [
        "# Rename labels\n",
        "label = label_value_counts.index.map({0: 'Negative', 1: 'Positive'})\n",
        "\n",
        "# plot the distribution of the labels\n",
        "plt.pie(label_value_counts, labels=label,\n",
        "        autopct='%1.1f%%', startangle=90, colors = ['#FF6B6B', '#4ECDC4'],\n",
        "        explode = (0, 0.1), shadow=True)\n",
        "\n",
        "# Add a legend\n",
        "plt.legend(\n",
        "    title=\"Sentiment\",\n",
        "    loc=\"upper right\",\n",
        "    bbox_to_anchor=(1.2, 1)  # Move legend outside the pie\n",
        ")\n",
        "\n",
        "plt.title('Sentiment Distribution of Train Data')\n",
        "plt.axis('equal')\n",
        "\n",
        "plt.savefig(\"Sentiment_Distribution_Train_Data.png\", dpi=300, bbox_inches='tight', transparent=False)\n",
        "\n",
        "\n",
        "plt.show()"
      ]
    },
    {
      "cell_type": "code",
      "execution_count": null,
      "metadata": {
        "colab": {
          "base_uri": "https://localhost:8080/"
        },
        "id": "NDDnS48ZTZUY",
        "outputId": "11d5e276-394e-4845-f196-bc8ee2aa9c98"
      },
      "outputs": [
        {
          "name": "stdout",
          "output_type": "stream",
          "text": [
            "Longest review: 13704\n",
            "Shortest review: 32\n"
          ]
        }
      ],
      "source": [
        "# How long is the longest review?\n",
        "length_review = df_train['text'].str.len()\n",
        "print(f'Longest review: {length_review.max()}')\n",
        "\n",
        "# How long is the shortest review?\n",
        "print(f'Shortest review: {length_review.min()}')"
      ]
    },
    {
      "cell_type": "code",
      "execution_count": null,
      "metadata": {
        "colab": {
          "base_uri": "https://localhost:8080/",
          "height": 472
        },
        "id": "9YbO1MwIVGtQ",
        "outputId": "02f3bb26-4eea-404c-cc7e-454b5e108afa"
      },
      "outputs": [
        {
          "data": {
            "image/png": "[encoded data removed]",
            "text/plain": [
              "<Figure size 640x480 with 1 Axes>"
            ]
          },
          "metadata": {},
          "output_type": "display_data"
        }
      ],
      "source": [
        "# Plot the Distribution of Review Length\n",
        "plt.hist(length_review, bins=50)\n",
        "plt.title('Distribution of Review Length')\n",
        "plt.xlabel('Review Length')\n",
        "plt.ylabel('Frequency')\n",
        "\n",
        "plt.savefig(\"Distribution_Review_Length.png\", dpi=300, bbox_inches='tight', transparent=False)\n",
        "\n",
        "plt.show()"
      ]
    },
    {
      "cell_type": "code",
      "execution_count": null,
      "metadata": {
        "colab": {
          "base_uri": "https://localhost:8080/",
          "height": 307
        },
        "id": "EXph1IavVyjc",
        "outputId": "89136ceb-e37b-491e-b0ed-61439988f261"
      },
      "outputs": [
        {
          "data": {
            "image/png": "[encoded data removed]",
            "text/plain": [
              "<Figure size 640x480 with 1 Axes>"
            ]
          },
          "metadata": {},
          "output_type": "display_data"
        }
      ],
      "source": [
        "# Customize stopwords\n",
        "stop_words = set(stopwords.words(\"english\"))\n",
        "stop_words.update([\"movie\", \"film\", \"one\", \"get\", \"would\"])\n",
        "\n",
        "# Plot the most frequent words in the reviews\n",
        "cloud_review = WordCloud(max_words=300,\n",
        "                         background_color=\"white\",\n",
        "                         stopwords=stop_words,\n",
        "                         colormap=\"viridis\",\n",
        "                         collocations=False,\n",
        "                         random_state=42\n",
        "                         ).generate(\" \".join(df_train['text']))\n",
        "\n",
        "plt.imshow(cloud_review, interpolation=\"bilinear\")\n",
        "plt.axis(\"off\")\n",
        "plt.title(\"Most Frequent Words in Movie Reviews\", weight='bold')\n",
        "\n",
        "plt.savefig(\"movie_reviews_wordcloud.png\", dpi=300, bbox_inches='tight', transparent=False)\n",
        "\n",
        "plt.show()"
      ]
    },
    {
      "cell_type": "markdown",
      "metadata": {
        "id": "T4xZIh3ybPMb"
      },
      "source": [
        "## Preprocessing"
      ]
    },
    {
      "cell_type": "code",
      "execution_count": null,
      "metadata": {
        "colab": {
          "base_uri": "https://localhost:8080/",
          "height": 206
        },
        "id": "D8ZZiJXyZZi7",
        "outputId": "f36ec8aa-4edc-4478-fe1e-fc146e257c81"
      },
      "outputs": [
        {
          "data": {
            "application/vnd.google.colaboratory.intrinsic+json": {
              "summary": "{\n  \"name\": \"df_train\",\n  \"rows\": 40000,\n  \"fields\": [\n    {\n      \"column\": \"text\",\n      \"properties\": {\n        \"dtype\": \"string\",\n        \"num_unique_values\": 39723,\n        \"samples\": [\n          \"There are similarities between Ray Lawrence's \\\"Jindabyne\\\" and his last movie \\\"Lantana\\\" \\u0096 a dead body and its repercussions for already dysfunctional lives. But whereas \\\"Lantana\\\" offered some hope and resolution, \\\"Jindabyne\\\" leaves everything unresolved in a bleak way that will leave most viewers unsatisfied, perhaps even cheated.<br /><br />The storyline - the aftermath of a fisherman's discovery of a corpse floating in a remote river - is based on a short story by Raymond Carver. It became an element in Robert Altman's classic 1993 ensemble \\\"Short Cuts\\\". Lawrence uses this theme for an exploration and exposition of relationships within a small Australian community under stress. The movie poses some moral questions \\\"Would you let the discovery of a dead body ruin your good weekend?\\\" and more poignantly for Australians \\\"Would it make any difference if the dead person was an aboriginal?\\\" The acting, especially by Gabriel Byrne and Laura Linney, is commendable. And there are elements of mysticism reinforced by haunting music, not unlike \\\"Picnic at Hanging Rock\\\".<br /><br />If all this sounds like the basis for a great movie - be prepared for a let down, the pace is very slow and the murder is shown near the beginning, thereby eliminating the element of mystery. And so we are left with these desolate lives and a blank finale.\",\n          \"Hammer House of Horror: Witching Time is set in rural England on Woodstock farm where stressed musician David Winter (Jon Finch) lives with his actress wife Mary (Prunella Gee) & is currently composing the music for a horror film. One night while looking for his dog Billy David finds a mysterious woman in his barn, calling herself Lucinda Jessop (Patricia Quinn) she claims to be a witch who has transported herself from 300 years in the past to now. Obviously rather sceptical David has a hard time believing her so he locks her in a room in his farmhouse & calls his doctor Charles (Ian McCulloch) to come examine her, however once he arrives & they enter the room Lucinda has disappeared. Charles puts it down to David drinking too much but over the next few day strange & disturbing things begin to happen to David & Mary...<br /><br />Witching Time was episode 1 from the short lived British anthology horror series produced by Hammer studios for TV & originally aired here in the UK during September 1980, the first of two Hammer House of Horror episodes to be directed by Don Leaver (episode 13 The Mark of Satan being the other) I actually rather liked this. As a series Hammer House of Horror dealt with various different themes & were all unconnected to each other except in name & unsurprisingly Watching Time is a sinister & effective little tale about a witch, the script by Anthony Read benefits from it's slight 50 odd minute duration & moves along at a nice pace. The character's are pretty good as is the dialogue, there are some nice scenes here & I liked the way it never quite reveals whether David & Mary are going crazy or not. I think it's a well structured, entertaining & reasonably creepy horror themed TV show that I enjoyed more than I thought I would.<br /><br />Being made for British TV meant the boys at Hammer had a lower budget than usual, if that was even possible, & as such there is no gorgeous period settings here as in their most well know Frankenstein & Dracula films although the contemporary English setting does give it a certain atmosphere that you can relate to a bit more. Another TV based restriction is that the exploitation levels are lower than you might hope for, there's some nudity & gore but not much although I didn't mind too much as the story here is pretty good. It's well made for what it is & Hammer's experience on their feature films probably helped make these look pretty good, the acting is good as well with genre favourite Ian McCulloch making a bit-part appearance.<br /><br />Witching Time is a good start to the Hammer House of Horror series, as a 50 minute piece of British TV it's pretty damned good, now why don't they make show's like this over here anymore?\",\n          \"What a great cast for this movie. The timing was excellent and there were so many clever lines-several times I was still laughing minutes after they were delivered. I found Manna From Heaven to have some surprising moments and while there were things I was thinking would happen, the way they came together was anything but predictable. This movie is about hope and righting wrongs. I left the theater feeling inspired to do the right thing. Bravo to the Five Sisters.\"\n        ],\n        \"semantic_type\": \"\",\n        \"description\": \"\"\n      }\n    },\n    {\n      \"column\": \"label\",\n      \"properties\": {\n        \"dtype\": \"number\",\n        \"std\": 0,\n        \"min\": 0,\n        \"max\": 1,\n        \"num_unique_values\": 2,\n        \"samples\": [\n          1,\n          0\n        ],\n        \"semantic_type\": \"\",\n        \"description\": \"\"\n      }\n    },\n    {\n      \"column\": \"clean_tokens\",\n      \"properties\": {\n        \"dtype\": \"object\",\n        \"semantic_type\": \"\",\n        \"description\": \"\"\n      }\n    }\n  ]\n}",
              "type": "dataframe",
              "variable_name": "df_train"
            },
            "text/html": [
              "\n",
              "  <div id=\"df-d944d004-5d7d-473a-b7e2-e55f0ca408b6\" class=\"colab-df-container\">\n",
              "    <div>\n",
              "<style scoped>\n",
              "    .dataframe tbody tr th:only-of-type {\n",
              "        vertical-align: middle;\n",
              "    }\n",
              "\n",
              "    .dataframe tbody tr th {\n",
              "        vertical-align: top;\n",
              "    }\n",
              "\n",
              "    .dataframe thead th {\n",
              "        text-align: right;\n",
              "    }\n",
              "</style>\n",
              "<table border=\"1\" class=\"dataframe\">\n",
              "  <thead>\n",
              "    <tr style=\"text-align: right;\">\n",
              "      <th></th>\n",
              "      <th>text</th>\n",
              "      <th>label</th>\n",
              "      <th>clean_tokens</th>\n",
              "    </tr>\n",
              "  </thead>\n",
              "  <tbody>\n",
              "    <tr>\n",
              "      <th>0</th>\n",
              "      <td>I grew up (b. 1965) watching and loving the Th...</td>\n",
              "      <td>0</td>\n",
              "      <td>[grew, b, 1965, watching, loving, thunderbird,...</td>\n",
              "    </tr>\n",
              "    <tr>\n",
              "      <th>1</th>\n",
              "      <td>When I put this movie in my DVD player, and sa...</td>\n",
              "      <td>0</td>\n",
              "      <td>[put, movie, dvd, player, sat, coke, chip, exp...</td>\n",
              "    </tr>\n",
              "    <tr>\n",
              "      <th>2</th>\n",
              "      <td>Why do people who do not know what a particula...</td>\n",
              "      <td>0</td>\n",
              "      <td>[people, know, particular, time, past, like, f...</td>\n",
              "    </tr>\n",
              "    <tr>\n",
              "      <th>3</th>\n",
              "      <td>Even though I have great interest in Biblical ...</td>\n",
              "      <td>0</td>\n",
              "      <td>[even, though, great, interest, biblical, movi...</td>\n",
              "    </tr>\n",
              "    <tr>\n",
              "      <th>4</th>\n",
              "      <td>Im a die hard Dads Army fan and nothing will e...</td>\n",
              "      <td>1</td>\n",
              "      <td>[im, die, hard, dad, army, fan, nothing, ever,...</td>\n",
              "    </tr>\n",
              "  </tbody>\n",
              "</table>\n",
              "</div>\n",
              "    <div class=\"colab-df-buttons\">\n",
              "\n",
              "  <div class=\"colab-df-container\">\n",
              "    <button class=\"colab-df-convert\" onclick=\"convertToInteractive('df-d944d004-5d7d-473a-b7e2-e55f0ca408b6')\"\n",
              "            title=\"Convert this dataframe to an interactive table.\"\n",
              "            style=\"display:none;\">\n",
              "\n",
              "  <svg xmlns=\"http://www.w3.org/2000/svg\" height=\"24px\" viewBox=\"0 -960 960 960\">\n",
              "    <path d=\"M120-120v-720h720v720H120Zm60-500h600v-160H180v160Zm220 220h160v-160H400v160Zm0 220h160v-160H400v160ZM180-400h160v-160H180v160Zm440 0h160v-160H620v160ZM180-180h160v-160H180v160Zm440 0h160v-160H620v160Z\"/>\n",
              "  </svg>\n",
              "    </button>\n",
              "\n",
              "  <style>\n",
              "    .colab-df-container {\n",
              "      display:flex;\n",
              "      gap: 12px;\n",
              "    }\n",
              "\n",
              "    .colab-df-convert {\n",
              "      background-color: #E8F0FE;\n",
              "      border: none;\n",
              "      border-radius: 50%;\n",
              "      cursor: pointer;\n",
              "      display: none;\n",
              "      fill: #1967D2;\n",
              "      height: 32px;\n",
              "      padding: 0 0 0 0;\n",
              "      width: 32px;\n",
              "    }\n",
              "\n",
              "    .colab-df-convert:hover {\n",
              "      background-color: #E2EBFA;\n",
              "      box-shadow: 0px 1px 2px rgba(60, 64, 67, 0.3), 0px 1px 3px 1px rgba(60, 64, 67, 0.15);\n",
              "      fill: #174EA6;\n",
              "    }\n",
              "\n",
              "    .colab-df-buttons div {\n",
              "      margin-bottom: 4px;\n",
              "    }\n",
              "\n",
              "    [theme=dark] .colab-df-convert {\n",
              "      background-color: #3B4455;\n",
              "      fill: #D2E3FC;\n",
              "    }\n",
              "\n",
              "    [theme=dark] .colab-df-convert:hover {\n",
              "      background-color: #434B5C;\n",
              "      box-shadow: 0px 1px 3px 1px rgba(0, 0, 0, 0.15);\n",
              "      filter: drop-shadow(0px 1px 2px rgba(0, 0, 0, 0.3));\n",
              "      fill: #FFFFFF;\n",
              "    }\n",
              "  </style>\n",
              "\n",
              "    <script>\n",
              "      const buttonEl =\n",
              "        document.querySelector('#df-d944d004-5d7d-473a-b7e2-e55f0ca408b6 button.colab-df-convert');\n",
              "      buttonEl.style.display =\n",
              "        google.colab.kernel.accessAllowed ? 'block' : 'none';\n",
              "\n",
              "      async function convertToInteractive(key) {\n",
              "        const element = document.querySelector('#df-d944d004-5d7d-473a-b7e2-e55f0ca408b6');\n",
              "        const dataTable =\n",
              "          await google.colab.kernel.invokeFunction('convertToInteractive',\n",
              "                                                    [key], {});\n",
              "        if (!dataTable) return;\n",
              "\n",
              "        const docLinkHtml = 'Like what you see? Visit the ' +\n",
              "          '<a target=\"_blank\" href=https://colab.research.google.com/notebooks/data_table.ipynb>data table notebook</a>'\n",
              "          + ' to learn more about interactive tables.';\n",
              "        element.innerHTML = '';\n",
              "        dataTable['output_type'] = 'display_data';\n",
              "        await google.colab.output.renderOutput(dataTable, element);\n",
              "        const docLink = document.createElement('div');\n",
              "        docLink.innerHTML = docLinkHtml;\n",
              "        element.appendChild(docLink);\n",
              "      }\n",
              "    </script>\n",
              "  </div>\n",
              "\n",
              "\n",
              "<div id=\"df-e90ecfae-34df-4ce4-9ba2-111dc19c2872\">\n",
              "  <button class=\"colab-df-quickchart\" onclick=\"quickchart('df-e90ecfae-34df-4ce4-9ba2-111dc19c2872')\"\n",
              "            title=\"Suggest charts\"\n",
              "            style=\"display:none;\">\n",
              "\n",
              "<svg xmlns=\"http://www.w3.org/2000/svg\" height=\"24px\"viewBox=\"0 0 24 24\"\n",
              "     width=\"24px\">\n",
              "    <g>\n",
              "        <path d=\"M19 3H5c-1.1 0-2 .9-2 2v14c0 1.1.9 2 2 2h14c1.1 0 2-.9 2-2V5c0-1.1-.9-2-2-2zM9 17H7v-7h2v7zm4 0h-2V7h2v10zm4 0h-2v-4h2v4z\"/>\n",
              "    </g>\n",
              "</svg>\n",
              "  </button>\n",
              "\n",
              "<style>\n",
              "  .colab-df-quickchart {\n",
              "      --bg-color: #E8F0FE;\n",
              "      --fill-color: #1967D2;\n",
              "      --hover-bg-color: #E2EBFA;\n",
              "      --hover-fill-color: #174EA6;\n",
              "      --disabled-fill-color: #AAA;\n",
              "      --disabled-bg-color: #DDD;\n",
              "  }\n",
              "\n",
              "  [theme=dark] .colab-df-quickchart {\n",
              "      --bg-color: #3B4455;\n",
              "      --fill-color: #D2E3FC;\n",
              "      --hover-bg-color: #434B5C;\n",
              "      --hover-fill-color: #FFFFFF;\n",
              "      --disabled-bg-color: #3B4455;\n",
              "      --disabled-fill-color: #666;\n",
              "  }\n",
              "\n",
              "  .colab-df-quickchart {\n",
              "    background-color: var(--bg-color);\n",
              "    border: none;\n",
              "    border-radius: 50%;\n",
              "    cursor: pointer;\n",
              "    display: none;\n",
              "    fill: var(--fill-color);\n",
              "    height: 32px;\n",
              "    padding: 0;\n",
              "    width: 32px;\n",
              "  }\n",
              "\n",
              "  .colab-df-quickchart:hover {\n",
              "    background-color: var(--hover-bg-color);\n",
              "    box-shadow: 0 1px 2px rgba(60, 64, 67, 0.3), 0 1px 3px 1px rgba(60, 64, 67, 0.15);\n",
              "    fill: var(--button-hover-fill-color);\n",
              "  }\n",
              "\n",
              "  .colab-df-quickchart-complete:disabled,\n",
              "  .colab-df-quickchart-complete:disabled:hover {\n",
              "    background-color: var(--disabled-bg-color);\n",
              "    fill: var(--disabled-fill-color);\n",
              "    box-shadow: none;\n",
              "  }\n",
              "\n",
              "  .colab-df-spinner {\n",
              "    border: 2px solid var(--fill-color);\n",
              "    border-color: transparent;\n",
              "    border-bottom-color: var(--fill-color);\n",
              "    animation:\n",
              "      spin 1s steps(1) infinite;\n",
              "  }\n",
              "\n",
              "  @keyframes spin {\n",
              "    0% {\n",
              "      border-color: transparent;\n",
              "      border-bottom-color: var(--fill-color);\n",
              "      border-left-color: var(--fill-color);\n",
              "    }\n",
              "    20% {\n",
              "      border-color: transparent;\n",
              "      border-left-color: var(--fill-color);\n",
              "      border-top-color: var(--fill-color);\n",
              "    }\n",
              "    30% {\n",
              "      border-color: transparent;\n",
              "      border-left-color: var(--fill-color);\n",
              "      border-top-color: var(--fill-color);\n",
              "      border-right-color: var(--fill-color);\n",
              "    }\n",
              "    40% {\n",
              "      border-color: transparent;\n",
              "      border-right-color: var(--fill-color);\n",
              "      border-top-color: var(--fill-color);\n",
              "    }\n",
              "    60% {\n",
              "      border-color: transparent;\n",
              "      border-right-color: var(--fill-color);\n",
              "    }\n",
              "    80% {\n",
              "      border-color: transparent;\n",
              "      border-right-color: var(--fill-color);\n",
              "      border-bottom-color: var(--fill-color);\n",
              "    }\n",
              "    90% {\n",
              "      border-color: transparent;\n",
              "      border-bottom-color: var(--fill-color);\n",
              "    }\n",
              "  }\n",
              "</style>\n",
              "\n",
              "  <script>\n",
              "    async function quickchart(key) {\n",
              "      const quickchartButtonEl =\n",
              "        document.querySelector('#' + key + ' button');\n",
              "      quickchartButtonEl.disabled = true;  // To prevent multiple clicks.\n",
              "      quickchartButtonEl.classList.add('colab-df-spinner');\n",
              "      try {\n",
              "        const charts = await google.colab.kernel.invokeFunction(\n",
              "            'suggestCharts', [key], {});\n",
              "      } catch (error) {\n",
              "        console.error('Error during call to suggestCharts:', error);\n",
              "      }\n",
              "      quickchartButtonEl.classList.remove('colab-df-spinner');\n",
              "      quickchartButtonEl.classList.add('colab-df-quickchart-complete');\n",
              "    }\n",
              "    (() => {\n",
              "      let quickchartButtonEl =\n",
              "        document.querySelector('#df-e90ecfae-34df-4ce4-9ba2-111dc19c2872 button');\n",
              "      quickchartButtonEl.style.display =\n",
              "        google.colab.kernel.accessAllowed ? 'block' : 'none';\n",
              "    })();\n",
              "  </script>\n",
              "</div>\n",
              "\n",
              "    </div>\n",
              "  </div>\n"
            ],
            "text/plain": [
              "                                                text  label  \\\n",
              "0  I grew up (b. 1965) watching and loving the Th...      0   \n",
              "1  When I put this movie in my DVD player, and sa...      0   \n",
              "2  Why do people who do not know what a particula...      0   \n",
              "3  Even though I have great interest in Biblical ...      0   \n",
              "4  Im a die hard Dads Army fan and nothing will e...      1   \n",
              "\n",
              "                                        clean_tokens  \n",
              "0  [grew, b, 1965, watching, loving, thunderbird,...  \n",
              "1  [put, movie, dvd, player, sat, coke, chip, exp...  \n",
              "2  [people, know, particular, time, past, like, f...  \n",
              "3  [even, though, great, interest, biblical, movi...  \n",
              "4  [im, die, hard, dad, army, fan, nothing, ever,...  "
            ]
          },
          "execution_count": 13,
          "metadata": {},
          "output_type": "execute_result"
        }
      ],
      "source": [
        "# Preprocessing text column\n",
        "stop_words = set(stopwords.words('english'))\n",
        "lemmatizer = WordNetLemmatizer()\n",
        "\n",
        "def preprocess_text(text):\n",
        "  '''\n",
        "  Preprocesses text by:\n",
        "    1. Tokenizing\n",
        "    2. Lowercasing\n",
        "    3. Removing non-alphanumeric words and stopwords\n",
        "    4. Lemmatizing\n",
        "  '''\n",
        "  tokens = word_tokenize(text)\n",
        "  clean_tokens = [\n",
        "      lemmatizer.lemmatize(word.lower())\n",
        "      for word in tokens\n",
        "      if word.isalnum() and word.lower() not in stop_words]\n",
        "\n",
        "  return clean_tokens\n",
        "\n",
        "# Apply the preprocessing function to the text column\n",
        "df_train['clean_tokens'] = df_train['text'].apply(preprocess_text)\n",
        "df_train.head()"
      ]
    },
    {
      "cell_type": "markdown",
      "metadata": {
        "id": "kE_8CsBLkqUH"
      },
      "source": [
        "### Handling Negations"
      ]
    },
    {
      "cell_type": "code",
      "execution_count": null,
      "metadata": {
        "colab": {
          "base_uri": "https://localhost:8080/",
          "height": 206
        },
        "id": "Goj3Df5ImBBK",
        "outputId": "70774d47-7cf5-4585-c416-6995f6f56567"
      },
      "outputs": [
        {
          "data": {
            "application/vnd.google.colaboratory.intrinsic+json": {
              "summary": "{\n  \"name\": \"df_train\",\n  \"rows\": 40000,\n  \"fields\": [\n    {\n      \"column\": \"text\",\n      \"properties\": {\n        \"dtype\": \"string\",\n        \"num_unique_values\": 39723,\n        \"samples\": [\n          \"There are similarities between Ray Lawrence's \\\"Jindabyne\\\" and his last movie \\\"Lantana\\\" \\u0096 a dead body and its repercussions for already dysfunctional lives. But whereas \\\"Lantana\\\" offered some hope and resolution, \\\"Jindabyne\\\" leaves everything unresolved in a bleak way that will leave most viewers unsatisfied, perhaps even cheated.<br /><br />The storyline - the aftermath of a fisherman's discovery of a corpse floating in a remote river - is based on a short story by Raymond Carver. It became an element in Robert Altman's classic 1993 ensemble \\\"Short Cuts\\\". Lawrence uses this theme for an exploration and exposition of relationships within a small Australian community under stress. The movie poses some moral questions \\\"Would you let the discovery of a dead body ruin your good weekend?\\\" and more poignantly for Australians \\\"Would it make any difference if the dead person was an aboriginal?\\\" The acting, especially by Gabriel Byrne and Laura Linney, is commendable. And there are elements of mysticism reinforced by haunting music, not unlike \\\"Picnic at Hanging Rock\\\".<br /><br />If all this sounds like the basis for a great movie - be prepared for a let down, the pace is very slow and the murder is shown near the beginning, thereby eliminating the element of mystery. And so we are left with these desolate lives and a blank finale.\",\n          \"Hammer House of Horror: Witching Time is set in rural England on Woodstock farm where stressed musician David Winter (Jon Finch) lives with his actress wife Mary (Prunella Gee) & is currently composing the music for a horror film. One night while looking for his dog Billy David finds a mysterious woman in his barn, calling herself Lucinda Jessop (Patricia Quinn) she claims to be a witch who has transported herself from 300 years in the past to now. Obviously rather sceptical David has a hard time believing her so he locks her in a room in his farmhouse & calls his doctor Charles (Ian McCulloch) to come examine her, however once he arrives & they enter the room Lucinda has disappeared. Charles puts it down to David drinking too much but over the next few day strange & disturbing things begin to happen to David & Mary...<br /><br />Witching Time was episode 1 from the short lived British anthology horror series produced by Hammer studios for TV & originally aired here in the UK during September 1980, the first of two Hammer House of Horror episodes to be directed by Don Leaver (episode 13 The Mark of Satan being the other) I actually rather liked this. As a series Hammer House of Horror dealt with various different themes & were all unconnected to each other except in name & unsurprisingly Watching Time is a sinister & effective little tale about a witch, the script by Anthony Read benefits from it's slight 50 odd minute duration & moves along at a nice pace. The character's are pretty good as is the dialogue, there are some nice scenes here & I liked the way it never quite reveals whether David & Mary are going crazy or not. I think it's a well structured, entertaining & reasonably creepy horror themed TV show that I enjoyed more than I thought I would.<br /><br />Being made for British TV meant the boys at Hammer had a lower budget than usual, if that was even possible, & as such there is no gorgeous period settings here as in their most well know Frankenstein & Dracula films although the contemporary English setting does give it a certain atmosphere that you can relate to a bit more. Another TV based restriction is that the exploitation levels are lower than you might hope for, there's some nudity & gore but not much although I didn't mind too much as the story here is pretty good. It's well made for what it is & Hammer's experience on their feature films probably helped make these look pretty good, the acting is good as well with genre favourite Ian McCulloch making a bit-part appearance.<br /><br />Witching Time is a good start to the Hammer House of Horror series, as a 50 minute piece of British TV it's pretty damned good, now why don't they make show's like this over here anymore?\",\n          \"What a great cast for this movie. The timing was excellent and there were so many clever lines-several times I was still laughing minutes after they were delivered. I found Manna From Heaven to have some surprising moments and while there were things I was thinking would happen, the way they came together was anything but predictable. This movie is about hope and righting wrongs. I left the theater feeling inspired to do the right thing. Bravo to the Five Sisters.\"\n        ],\n        \"semantic_type\": \"\",\n        \"description\": \"\"\n      }\n    },\n    {\n      \"column\": \"label\",\n      \"properties\": {\n        \"dtype\": \"number\",\n        \"std\": 0,\n        \"min\": 0,\n        \"max\": 1,\n        \"num_unique_values\": 2,\n        \"samples\": [\n          1,\n          0\n        ],\n        \"semantic_type\": \"\",\n        \"description\": \"\"\n      }\n    },\n    {\n      \"column\": \"clean_tokens\",\n      \"properties\": {\n        \"dtype\": \"object\",\n        \"semantic_type\": \"\",\n        \"description\": \"\"\n      }\n    },\n    {\n      \"column\": \"processed_clean_tokens\",\n      \"properties\": {\n        \"dtype\": \"object\",\n        \"semantic_type\": \"\",\n        \"description\": \"\"\n      }\n    }\n  ]\n}",
              "type": "dataframe",
              "variable_name": "df_train"
            },
            "text/html": [
              "\n",
              "  <div id=\"df-ba9f800d-9f34-486f-8b8b-ae6b85f854ba\" class=\"colab-df-container\">\n",
              "    <div>\n",
              "<style scoped>\n",
              "    .dataframe tbody tr th:only-of-type {\n",
              "        vertical-align: middle;\n",
              "    }\n",
              "\n",
              "    .dataframe tbody tr th {\n",
              "        vertical-align: top;\n",
              "    }\n",
              "\n",
              "    .dataframe thead th {\n",
              "        text-align: right;\n",
              "    }\n",
              "</style>\n",
              "<table border=\"1\" class=\"dataframe\">\n",
              "  <thead>\n",
              "    <tr style=\"text-align: right;\">\n",
              "      <th></th>\n",
              "      <th>text</th>\n",
              "      <th>label</th>\n",
              "      <th>clean_tokens</th>\n",
              "      <th>processed_clean_tokens</th>\n",
              "    </tr>\n",
              "  </thead>\n",
              "  <tbody>\n",
              "    <tr>\n",
              "      <th>0</th>\n",
              "      <td>I grew up (b. 1965) watching and loving the Th...</td>\n",
              "      <td>0</td>\n",
              "      <td>[grew, b, 1965, watching, loving, thunderbird,...</td>\n",
              "      <td>[grew, b, 1965, watching, loving, thunderbird,...</td>\n",
              "    </tr>\n",
              "    <tr>\n",
              "      <th>1</th>\n",
              "      <td>When I put this movie in my DVD player, and sa...</td>\n",
              "      <td>0</td>\n",
              "      <td>[put, movie, dvd, player, sat, coke, chip, exp...</td>\n",
              "      <td>[put, movie, dvd, player, sat, coke, chip, exp...</td>\n",
              "    </tr>\n",
              "    <tr>\n",
              "      <th>2</th>\n",
              "      <td>Why do people who do not know what a particula...</td>\n",
              "      <td>0</td>\n",
              "      <td>[people, know, particular, time, past, like, f...</td>\n",
              "      <td>[people, know, particular, time, past, like, f...</td>\n",
              "    </tr>\n",
              "    <tr>\n",
              "      <th>3</th>\n",
              "      <td>Even though I have great interest in Biblical ...</td>\n",
              "      <td>0</td>\n",
              "      <td>[even, though, great, interest, biblical, movi...</td>\n",
              "      <td>[even, though, great, interest, biblical, movi...</td>\n",
              "    </tr>\n",
              "    <tr>\n",
              "      <th>4</th>\n",
              "      <td>Im a die hard Dads Army fan and nothing will e...</td>\n",
              "      <td>1</td>\n",
              "      <td>[im, die, hard, dad, army, fan, nothing, ever,...</td>\n",
              "      <td>[im, die, hard, dad, army, fan, nothing, ever,...</td>\n",
              "    </tr>\n",
              "  </tbody>\n",
              "</table>\n",
              "</div>\n",
              "    <div class=\"colab-df-buttons\">\n",
              "\n",
              "  <div class=\"colab-df-container\">\n",
              "    <button class=\"colab-df-convert\" onclick=\"convertToInteractive('df-ba9f800d-9f34-486f-8b8b-ae6b85f854ba')\"\n",
              "            title=\"Convert this dataframe to an interactive table.\"\n",
              "            style=\"display:none;\">\n",
              "\n",
              "  <svg xmlns=\"http://www.w3.org/2000/svg\" height=\"24px\" viewBox=\"0 -960 960 960\">\n",
              "    <path d=\"M120-120v-720h720v720H120Zm60-500h600v-160H180v160Zm220 220h160v-160H400v160Zm0 220h160v-160H400v160ZM180-400h160v-160H180v160Zm440 0h160v-160H620v160ZM180-180h160v-160H180v160Zm440 0h160v-160H620v160Z\"/>\n",
              "  </svg>\n",
              "    </button>\n",
              "\n",
              "  <style>\n",
              "    .colab-df-container {\n",
              "      display:flex;\n",
              "      gap: 12px;\n",
              "    }\n",
              "\n",
              "    .colab-df-convert {\n",
              "      background-color: #E8F0FE;\n",
              "      border: none;\n",
              "      border-radius: 50%;\n",
              "      cursor: pointer;\n",
              "      display: none;\n",
              "      fill: #1967D2;\n",
              "      height: 32px;\n",
              "      padding: 0 0 0 0;\n",
              "      width: 32px;\n",
              "    }\n",
              "\n",
              "    .colab-df-convert:hover {\n",
              "      background-color: #E2EBFA;\n",
              "      box-shadow: 0px 1px 2px rgba(60, 64, 67, 0.3), 0px 1px 3px 1px rgba(60, 64, 67, 0.15);\n",
              "      fill: #174EA6;\n",
              "    }\n",
              "\n",
              "    .colab-df-buttons div {\n",
              "      margin-bottom: 4px;\n",
              "    }\n",
              "\n",
              "    [theme=dark] .colab-df-convert {\n",
              "      background-color: #3B4455;\n",
              "      fill: #D2E3FC;\n",
              "    }\n",
              "\n",
              "    [theme=dark] .colab-df-convert:hover {\n",
              "      background-color: #434B5C;\n",
              "      box-shadow: 0px 1px 3px 1px rgba(0, 0, 0, 0.15);\n",
              "      filter: drop-shadow(0px 1px 2px rgba(0, 0, 0, 0.3));\n",
              "      fill: #FFFFFF;\n",
              "    }\n",
              "  </style>\n",
              "\n",
              "    <script>\n",
              "      const buttonEl =\n",
              "        document.querySelector('#df-ba9f800d-9f34-486f-8b8b-ae6b85f854ba button.colab-df-convert');\n",
              "      buttonEl.style.display =\n",
              "        google.colab.kernel.accessAllowed ? 'block' : 'none';\n",
              "\n",
              "      async function convertToInteractive(key) {\n",
              "        const element = document.querySelector('#df-ba9f800d-9f34-486f-8b8b-ae6b85f854ba');\n",
              "        const dataTable =\n",
              "          await google.colab.kernel.invokeFunction('convertToInteractive',\n",
              "                                                    [key], {});\n",
              "        if (!dataTable) return;\n",
              "\n",
              "        const docLinkHtml = 'Like what you see? Visit the ' +\n",
              "          '<a target=\"_blank\" href=https://colab.research.google.com/notebooks/data_table.ipynb>data table notebook</a>'\n",
              "          + ' to learn more about interactive tables.';\n",
              "        element.innerHTML = '';\n",
              "        dataTable['output_type'] = 'display_data';\n",
              "        await google.colab.output.renderOutput(dataTable, element);\n",
              "        const docLink = document.createElement('div');\n",
              "        docLink.innerHTML = docLinkHtml;\n",
              "        element.appendChild(docLink);\n",
              "      }\n",
              "    </script>\n",
              "  </div>\n",
              "\n",
              "\n",
              "<div id=\"df-5f36636c-9c0a-4750-b6bc-44654022f459\">\n",
              "  <button class=\"colab-df-quickchart\" onclick=\"quickchart('df-5f36636c-9c0a-4750-b6bc-44654022f459')\"\n",
              "            title=\"Suggest charts\"\n",
              "            style=\"display:none;\">\n",
              "\n",
              "<svg xmlns=\"http://www.w3.org/2000/svg\" height=\"24px\"viewBox=\"0 0 24 24\"\n",
              "     width=\"24px\">\n",
              "    <g>\n",
              "        <path d=\"M19 3H5c-1.1 0-2 .9-2 2v14c0 1.1.9 2 2 2h14c1.1 0 2-.9 2-2V5c0-1.1-.9-2-2-2zM9 17H7v-7h2v7zm4 0h-2V7h2v10zm4 0h-2v-4h2v4z\"/>\n",
              "    </g>\n",
              "</svg>\n",
              "  </button>\n",
              "\n",
              "<style>\n",
              "  .colab-df-quickchart {\n",
              "      --bg-color: #E8F0FE;\n",
              "      --fill-color: #1967D2;\n",
              "      --hover-bg-color: #E2EBFA;\n",
              "      --hover-fill-color: #174EA6;\n",
              "      --disabled-fill-color: #AAA;\n",
              "      --disabled-bg-color: #DDD;\n",
              "  }\n",
              "\n",
              "  [theme=dark] .colab-df-quickchart {\n",
              "      --bg-color: #3B4455;\n",
              "      --fill-color: #D2E3FC;\n",
              "      --hover-bg-color: #434B5C;\n",
              "      --hover-fill-color: #FFFFFF;\n",
              "      --disabled-bg-color: #3B4455;\n",
              "      --disabled-fill-color: #666;\n",
              "  }\n",
              "\n",
              "  .colab-df-quickchart {\n",
              "    background-color: var(--bg-color);\n",
              "    border: none;\n",
              "    border-radius: 50%;\n",
              "    cursor: pointer;\n",
              "    display: none;\n",
              "    fill: var(--fill-color);\n",
              "    height: 32px;\n",
              "    padding: 0;\n",
              "    width: 32px;\n",
              "  }\n",
              "\n",
              "  .colab-df-quickchart:hover {\n",
              "    background-color: var(--hover-bg-color);\n",
              "    box-shadow: 0 1px 2px rgba(60, 64, 67, 0.3), 0 1px 3px 1px rgba(60, 64, 67, 0.15);\n",
              "    fill: var(--button-hover-fill-color);\n",
              "  }\n",
              "\n",
              "  .colab-df-quickchart-complete:disabled,\n",
              "  .colab-df-quickchart-complete:disabled:hover {\n",
              "    background-color: var(--disabled-bg-color);\n",
              "    fill: var(--disabled-fill-color);\n",
              "    box-shadow: none;\n",
              "  }\n",
              "\n",
              "  .colab-df-spinner {\n",
              "    border: 2px solid var(--fill-color);\n",
              "    border-color: transparent;\n",
              "    border-bottom-color: var(--fill-color);\n",
              "    animation:\n",
              "      spin 1s steps(1) infinite;\n",
              "  }\n",
              "\n",
              "  @keyframes spin {\n",
              "    0% {\n",
              "      border-color: transparent;\n",
              "      border-bottom-color: var(--fill-color);\n",
              "      border-left-color: var(--fill-color);\n",
              "    }\n",
              "    20% {\n",
              "      border-color: transparent;\n",
              "      border-left-color: var(--fill-color);\n",
              "      border-top-color: var(--fill-color);\n",
              "    }\n",
              "    30% {\n",
              "      border-color: transparent;\n",
              "      border-left-color: var(--fill-color);\n",
              "      border-top-color: var(--fill-color);\n",
              "      border-right-color: var(--fill-color);\n",
              "    }\n",
              "    40% {\n",
              "      border-color: transparent;\n",
              "      border-right-color: var(--fill-color);\n",
              "      border-top-color: var(--fill-color);\n",
              "    }\n",
              "    60% {\n",
              "      border-color: transparent;\n",
              "      border-right-color: var(--fill-color);\n",
              "    }\n",
              "    80% {\n",
              "      border-color: transparent;\n",
              "      border-right-color: var(--fill-color);\n",
              "      border-bottom-color: var(--fill-color);\n",
              "    }\n",
              "    90% {\n",
              "      border-color: transparent;\n",
              "      border-bottom-color: var(--fill-color);\n",
              "    }\n",
              "  }\n",
              "</style>\n",
              "\n",
              "  <script>\n",
              "    async function quickchart(key) {\n",
              "      const quickchartButtonEl =\n",
              "        document.querySelector('#' + key + ' button');\n",
              "      quickchartButtonEl.disabled = true;  // To prevent multiple clicks.\n",
              "      quickchartButtonEl.classList.add('colab-df-spinner');\n",
              "      try {\n",
              "        const charts = await google.colab.kernel.invokeFunction(\n",
              "            'suggestCharts', [key], {});\n",
              "      } catch (error) {\n",
              "        console.error('Error during call to suggestCharts:', error);\n",
              "      }\n",
              "      quickchartButtonEl.classList.remove('colab-df-spinner');\n",
              "      quickchartButtonEl.classList.add('colab-df-quickchart-complete');\n",
              "    }\n",
              "    (() => {\n",
              "      let quickchartButtonEl =\n",
              "        document.querySelector('#df-5f36636c-9c0a-4750-b6bc-44654022f459 button');\n",
              "      quickchartButtonEl.style.display =\n",
              "        google.colab.kernel.accessAllowed ? 'block' : 'none';\n",
              "    })();\n",
              "  </script>\n",
              "</div>\n",
              "\n",
              "    </div>\n",
              "  </div>\n"
            ],
            "text/plain": [
              "                                                text  label  \\\n",
              "0  I grew up (b. 1965) watching and loving the Th...      0   \n",
              "1  When I put this movie in my DVD player, and sa...      0   \n",
              "2  Why do people who do not know what a particula...      0   \n",
              "3  Even though I have great interest in Biblical ...      0   \n",
              "4  Im a die hard Dads Army fan and nothing will e...      1   \n",
              "\n",
              "                                        clean_tokens  \\\n",
              "0  [grew, b, 1965, watching, loving, thunderbird,...   \n",
              "1  [put, movie, dvd, player, sat, coke, chip, exp...   \n",
              "2  [people, know, particular, time, past, like, f...   \n",
              "3  [even, though, great, interest, biblical, movi...   \n",
              "4  [im, die, hard, dad, army, fan, nothing, ever,...   \n",
              "\n",
              "                              processed_clean_tokens  \n",
              "0  [grew, b, 1965, watching, loving, thunderbird,...  \n",
              "1  [put, movie, dvd, player, sat, coke, chip, exp...  \n",
              "2  [people, know, particular, time, past, like, f...  \n",
              "3  [even, though, great, interest, biblical, movi...  \n",
              "4  [im, die, hard, dad, army, fan, nothing, ever,...  "
            ]
          },
          "execution_count": 14,
          "metadata": {},
          "output_type": "execute_result"
        }
      ],
      "source": [
        "# Define a function to handle negations in the tokens\n",
        "def handle_negations(tokens):\n",
        "  '''\n",
        "  Handles negations in a list of tokens.\n",
        "  '''\n",
        "  return [f\"not_{tokens[i+1]}\" if tokens[i] == 'not' and i+1 < len(tokens)\n",
        "          else tokens[i]\n",
        "          for i in range(len(tokens))]\n",
        "\n",
        "# Apply the negation handling function to the tokens column\n",
        "df_train['processed_clean_tokens'] = df_train['clean_tokens'].apply(handle_negations)\n",
        "df_train.head()"
      ]
    },
    {
      "cell_type": "markdown",
      "metadata": {
        "id": "yo0wFDycmXAG"
      },
      "source": [
        "## TF_IDF Vectorization"
      ]
    },
    {
      "cell_type": "code",
      "execution_count": null,
      "metadata": {
        "colab": {
          "base_uri": "https://localhost:8080/"
        },
        "id": "xomMSBBVmRa2",
        "outputId": "a194c5b0-031d-4de0-b1d3-046654d9dc5d"
      },
      "outputs": [],
      "source": [
        "# Convert the list of tokens back to a string for TF-IDF vectorization\n",
        "clean_text = [' '.join(tokens) for tokens in df_train['processed_clean_tokens']]\n",
        "\n",
        "# Create a TF-IDF vectorizer\n",
        "tfidf = TfidfVectorizer(max_features=5000, ngram_range=(1, 2))\n",
        "X_train = tfidf.fit_transform(clean_text)\n",
        "y_train = df_train['label']\n",
        "\n",
        "# Save the fitted vectorizer for test phase\n",
        "from joblib import dump\n",
        "dump(tfidf, 'tfidf_vectorizer.joblib')  "
      ]
    },
    {
      "cell_type": "markdown",
      "metadata": {
        "id": "Efs5kECZwqHa"
      },
      "source": [
        "## Preparing Test data"
      ]
    },
    {
      "cell_type": "code",
      "execution_count": null,
      "metadata": {
        "id": "cjJL0Bi6wpDl"
      },
      "outputs": [],
      "source": [
        "# Apply the same preprocessing to the test dataset\n",
        "df_test['clean_tokens'] = df_test['text'].apply(preprocess_text)\n",
        "\n",
        "\n",
        "df_test['processed_clean_tokens'] = df_test['clean_tokens'].apply(handle_negations)\n",
        "\n",
        "\n",
        "tfidf = load('tfidf_vectorizer.joblib')\n",
        "\n",
        "clean_text = [' '.join(tokens) for tokens in df_test['processed_clean_tokens']]\n",
        "X_test = tfidf.transform(clean_text)\n",
        "y_test = df_test['label']"
      ]
    },
    {
      "cell_type": "markdown",
      "metadata": {
        "id": "s1GWYXXdpr7z"
      },
      "source": [
        "## Classification Model"
      ]
    },
    {
      "cell_type": "code",
      "execution_count": null,
      "metadata": {
        "colab": {
          "base_uri": "https://localhost:8080/"
        },
        "id": "mpfwHjhRDOW_",
        "outputId": "259912db-9cf6-47b2-ddac-0953b2d3cf32"
      },
      "outputs": [
        {
          "name": "stdout",
          "output_type": "stream",
          "text": [
            "Train Accuracy: 0.91230625\n",
            "Test Accuracy: 0.8863\n"
          ]
        }
      ],
      "source": [
        "# Logistic Regression\n",
        "lgr_model = LogisticRegression()\n",
        "cross_val_scores = cross_validate(\n",
        "    lgr_model,\n",
        "    X_train,\n",
        "    y_train,\n",
        "    cv=5,\n",
        "    scoring='accuracy',\n",
        "    n_jobs=1,\n",
        "    return_train_score=True\n",
        ")\n",
        "\n",
        "print(f'Train Accuracy: {cross_val_scores[\"train_score\"].mean()}')\n",
        "print(f'Test Accuracy: {cross_val_scores[\"test_score\"].mean()}')"
      ]
    },
    {
      "cell_type": "code",
      "execution_count": null,
      "metadata": {
        "colab": {
          "base_uri": "https://localhost:8080/"
        },
        "id": "WyyJm-kqFn9Q",
        "outputId": "41058ff2-7ecd-4935-83da-08cb6b2ac733"
      },
      "outputs": [
        {
          "name": "stdout",
          "output_type": "stream",
          "text": [
            "Train Accuracy: 1.0\n",
            "Test Accuracy: 0.8474999999999999\n"
          ]
        }
      ],
      "source": [
        "# Random Forest\n",
        "rf = RandomForestClassifier(random_state=42)\n",
        "cross_val_scores = cross_validate(\n",
        "    rf,\n",
        "    X_train,\n",
        "    y_train,\n",
        "    cv=5,\n",
        "    scoring='accuracy',\n",
        "    n_jobs=1,\n",
        "    return_train_score=True\n",
        ")\n",
        "\n",
        "print(f'Train Accuracy: {cross_val_scores[\"train_score\"].mean()}')\n",
        "print(f'Test Accuracy: {cross_val_scores[\"test_score\"].mean()}')"
      ]
    },
    {
      "cell_type": "code",
      "execution_count": null,
      "metadata": {
        "colab": {
          "base_uri": "https://localhost:8080/"
        },
        "id": "48MEgiejF992",
        "outputId": "54b6a41a-2623-43fc-e224-c7a0aeef2386"
      },
      "outputs": [
        {
          "name": "stdout",
          "output_type": "stream",
          "text": [
            "Train Accuracy: 0.8680125000000001\n",
            "Test Accuracy: 0.8581\n"
          ]
        }
      ],
      "source": [
        "# Naive Bayes\n",
        "nb = MultinomialNB()\n",
        "cross_val_scores = cross_validate(\n",
        "    nb,\n",
        "    X_train,\n",
        "    y_train,\n",
        "    cv=5,\n",
        "    scoring='accuracy',\n",
        "    n_jobs=1,\n",
        "    return_train_score=True\n",
        ")\n",
        "\n",
        "print(f'Train Accuracy: {cross_val_scores[\"train_score\"].mean()}')\n",
        "print(f'Test Accuracy: {cross_val_scores[\"test_score\"].mean()}')"
      ]
    },
    {
      "cell_type": "code",
      "execution_count": null,
      "metadata": {
        "colab": {
          "base_uri": "https://localhost:8080/"
        },
        "id": "NlNNIqLuGHu-",
        "outputId": "a6dd1f6d-95b5-40af-e853-534637203c24"
      },
      "outputs": [
        {
          "name": "stdout",
          "output_type": "stream",
          "text": [
            "Train Accuracy: 0.93585\n",
            "Test Accuracy: 0.8545\n"
          ]
        }
      ],
      "source": [
        "# XGBoost\n",
        "xgb = XGBClassifier(random_state=42)\n",
        "cross_val_scores = cross_validate(\n",
        "    xgb,\n",
        "    X_train,\n",
        "    y_train,\n",
        "    cv=5,\n",
        "    scoring='accuracy',\n",
        "    n_jobs=1,\n",
        "    return_train_score=True\n",
        ")\n",
        "\n",
        "print(f'Train Accuracy: {cross_val_scores[\"train_score\"].mean()}')\n",
        "print(f'Test Accuracy: {cross_val_scores[\"test_score\"].mean()}')"
      ]
    },
    {
      "cell_type": "code",
      "execution_count": null,
      "metadata": {
        "colab": {
          "base_uri": "https://localhost:8080/"
        },
        "id": "5v0IIVh1GScd",
        "outputId": "0e2f5b24-675b-4475-f3cb-d693aff7dbcb"
      },
      "outputs": [
        {
          "name": "stderr",
          "output_type": "stream",
          "text": [
            "/usr/local/lib/python3.11/dist-packages/sklearn/utils/deprecation.py:151: FutureWarning: 'force_all_finite' was renamed to 'ensure_all_finite' in 1.6 and will be removed in 1.8.\n",
            "  warnings.warn(\n"
          ]
        },
        {
          "name": "stdout",
          "output_type": "stream",
          "text": [
            "[LightGBM] [Info] Number of positive: 15985, number of negative: 16015\n",
            "[LightGBM] [Info] Auto-choosing col-wise multi-threading, the overhead of testing was 6.526693 seconds.\n",
            "You can set `force_col_wise=true` to remove the overhead.\n",
            "[LightGBM] [Info] Total Bins 540441\n",
            "[LightGBM] [Info] Number of data points in the train set: 32000, number of used features: 5000\n",
            "[LightGBM] [Info] [binary:BoostFromScore]: pavg=0.499531 -> initscore=-0.001875\n",
            "[LightGBM] [Info] Start training from score -0.001875\n"
          ]
        },
        {
          "name": "stderr",
          "output_type": "stream",
          "text": [
            "/usr/local/lib/python3.11/dist-packages/sklearn/utils/deprecation.py:151: FutureWarning: 'force_all_finite' was renamed to 'ensure_all_finite' in 1.6 and will be removed in 1.8.\n",
            "  warnings.warn(\n",
            "/usr/local/lib/python3.11/dist-packages/sklearn/utils/deprecation.py:151: FutureWarning: 'force_all_finite' was renamed to 'ensure_all_finite' in 1.6 and will be removed in 1.8.\n",
            "  warnings.warn(\n",
            "/usr/local/lib/python3.11/dist-packages/sklearn/utils/deprecation.py:151: FutureWarning: 'force_all_finite' was renamed to 'ensure_all_finite' in 1.6 and will be removed in 1.8.\n",
            "  warnings.warn(\n"
          ]
        },
        {
          "name": "stdout",
          "output_type": "stream",
          "text": [
            "[LightGBM] [Info] Number of positive: 15985, number of negative: 16015\n",
            "[LightGBM] [Info] Auto-choosing col-wise multi-threading, the overhead of testing was 2.963354 seconds.\n",
            "You can set `force_col_wise=true` to remove the overhead.\n",
            "[LightGBM] [Info] Total Bins 539771\n",
            "[LightGBM] [Info] Number of data points in the train set: 32000, number of used features: 5000\n",
            "[LightGBM] [Info] [binary:BoostFromScore]: pavg=0.499531 -> initscore=-0.001875\n",
            "[LightGBM] [Info] Start training from score -0.001875\n"
          ]
        },
        {
          "name": "stderr",
          "output_type": "stream",
          "text": [
            "/usr/local/lib/python3.11/dist-packages/sklearn/utils/deprecation.py:151: FutureWarning: 'force_all_finite' was renamed to 'ensure_all_finite' in 1.6 and will be removed in 1.8.\n",
            "  warnings.warn(\n",
            "/usr/local/lib/python3.11/dist-packages/sklearn/utils/deprecation.py:151: FutureWarning: 'force_all_finite' was renamed to 'ensure_all_finite' in 1.6 and will be removed in 1.8.\n",
            "  warnings.warn(\n",
            "/usr/local/lib/python3.11/dist-packages/sklearn/utils/deprecation.py:151: FutureWarning: 'force_all_finite' was renamed to 'ensure_all_finite' in 1.6 and will be removed in 1.8.\n",
            "  warnings.warn(\n"
          ]
        },
        {
          "name": "stdout",
          "output_type": "stream",
          "text": [
            "[LightGBM] [Info] Number of positive: 15985, number of negative: 16015\n",
            "[LightGBM] [Info] Auto-choosing col-wise multi-threading, the overhead of testing was 2.905245 seconds.\n",
            "You can set `force_col_wise=true` to remove the overhead.\n",
            "[LightGBM] [Info] Total Bins 541775\n",
            "[LightGBM] [Info] Number of data points in the train set: 32000, number of used features: 5000\n",
            "[LightGBM] [Info] [binary:BoostFromScore]: pavg=0.499531 -> initscore=-0.001875\n",
            "[LightGBM] [Info] Start training from score -0.001875\n"
          ]
        },
        {
          "name": "stderr",
          "output_type": "stream",
          "text": [
            "/usr/local/lib/python3.11/dist-packages/sklearn/utils/deprecation.py:151: FutureWarning: 'force_all_finite' was renamed to 'ensure_all_finite' in 1.6 and will be removed in 1.8.\n",
            "  warnings.warn(\n",
            "/usr/local/lib/python3.11/dist-packages/sklearn/utils/deprecation.py:151: FutureWarning: 'force_all_finite' was renamed to 'ensure_all_finite' in 1.6 and will be removed in 1.8.\n",
            "  warnings.warn(\n",
            "/usr/local/lib/python3.11/dist-packages/sklearn/utils/deprecation.py:151: FutureWarning: 'force_all_finite' was renamed to 'ensure_all_finite' in 1.6 and will be removed in 1.8.\n",
            "  warnings.warn(\n"
          ]
        },
        {
          "name": "stdout",
          "output_type": "stream",
          "text": [
            "[LightGBM] [Info] Number of positive: 15985, number of negative: 16015\n",
            "[LightGBM] [Info] Auto-choosing col-wise multi-threading, the overhead of testing was 2.933918 seconds.\n",
            "You can set `force_col_wise=true` to remove the overhead.\n",
            "[LightGBM] [Info] Total Bins 540104\n",
            "[LightGBM] [Info] Number of data points in the train set: 32000, number of used features: 5000\n",
            "[LightGBM] [Info] [binary:BoostFromScore]: pavg=0.499531 -> initscore=-0.001875\n",
            "[LightGBM] [Info] Start training from score -0.001875\n"
          ]
        },
        {
          "name": "stderr",
          "output_type": "stream",
          "text": [
            "/usr/local/lib/python3.11/dist-packages/sklearn/utils/deprecation.py:151: FutureWarning: 'force_all_finite' was renamed to 'ensure_all_finite' in 1.6 and will be removed in 1.8.\n",
            "  warnings.warn(\n",
            "/usr/local/lib/python3.11/dist-packages/sklearn/utils/deprecation.py:151: FutureWarning: 'force_all_finite' was renamed to 'ensure_all_finite' in 1.6 and will be removed in 1.8.\n",
            "  warnings.warn(\n",
            "/usr/local/lib/python3.11/dist-packages/sklearn/utils/deprecation.py:151: FutureWarning: 'force_all_finite' was renamed to 'ensure_all_finite' in 1.6 and will be removed in 1.8.\n",
            "  warnings.warn(\n"
          ]
        },
        {
          "name": "stdout",
          "output_type": "stream",
          "text": [
            "[LightGBM] [Info] Number of positive: 15984, number of negative: 16016\n",
            "[LightGBM] [Info] Auto-choosing col-wise multi-threading, the overhead of testing was 2.966704 seconds.\n",
            "You can set `force_col_wise=true` to remove the overhead.\n",
            "[LightGBM] [Info] Total Bins 540062\n",
            "[LightGBM] [Info] Number of data points in the train set: 32000, number of used features: 5000\n",
            "[LightGBM] [Info] [binary:BoostFromScore]: pavg=0.499500 -> initscore=-0.002000\n",
            "[LightGBM] [Info] Start training from score -0.002000\n"
          ]
        },
        {
          "name": "stderr",
          "output_type": "stream",
          "text": [
            "/usr/local/lib/python3.11/dist-packages/sklearn/utils/deprecation.py:151: FutureWarning: 'force_all_finite' was renamed to 'ensure_all_finite' in 1.6 and will be removed in 1.8.\n",
            "  warnings.warn(\n",
            "/usr/local/lib/python3.11/dist-packages/sklearn/utils/deprecation.py:151: FutureWarning: 'force_all_finite' was renamed to 'ensure_all_finite' in 1.6 and will be removed in 1.8.\n",
            "  warnings.warn(\n"
          ]
        },
        {
          "name": "stdout",
          "output_type": "stream",
          "text": [
            "Train Accuracy: 0.9051937500000001\n",
            "Test Accuracy: 0.861425\n"
          ]
        }
      ],
      "source": [
        "# LightGBM\n",
        "lgbm = LGBMClassifier(random_state=42)\n",
        "cross_val_scores = cross_validate(\n",
        "    lgbm,\n",
        "    X_train,\n",
        "    y_train,\n",
        "    cv=5,\n",
        "    scoring='accuracy',\n",
        "    n_jobs=1,\n",
        "    return_train_score=True\n",
        ")\n",
        "\n",
        "print(f'Train Accuracy: {cross_val_scores[\"train_score\"].mean()}')\n",
        "print(f'Test Accuracy: {cross_val_scores[\"test_score\"].mean()}')"
      ]
    },
    {
      "cell_type": "markdown",
      "metadata": {
        "id": "jsbPcTq6WbIx"
      },
      "source": [
        "## Logistic Regression Tuning"
      ]
    },
    {
      "cell_type": "code",
      "execution_count": null,
      "metadata": {
        "colab": {
          "base_uri": "https://localhost:8080/"
        },
        "id": "twRSqm36WapQ",
        "outputId": "7d9c8240-78ac-414c-e29c-915b0b8cad20"
      },
      "outputs": [
        {
          "name": "stdout",
          "output_type": "stream",
          "text": [
            "Best LR: 0.886\n",
            "Best params: {'C': 1, 'l1_ratio': 0.3, 'penalty': 'elasticnet', 'solver': 'saga'}\n"
          ]
        }
      ],
      "source": [
        "# Parameter grid for LR\n",
        "param_grid = {\n",
        "    'penalty': ['l1', 'l2', 'elasticnet'],\n",
        "    'C': [0.001, 0.01, 0.1, 1, 10],  # Inverse of regularization strength\n",
        "    'solver': ['saga'],  # Supports all penalties\n",
        "    'l1_ratio': [0.3, 0.5, 0.7]  # For elasticnet\n",
        "}\n",
        "\n",
        "# Perform Grid Search for Logistic Regression\n",
        "lr = LogisticRegression(max_iter=5000, random_state=42)\n",
        "grid_search = GridSearchCV(lr, param_grid, cv=5, scoring='accuracy', n_jobs=-1)\n",
        "grid_search.fit(X_train, y_train)\n",
        "\n",
        "print(f\"Best LR: {grid_search.best_score_:.3f}\")\n",
        "print(f\"Best params: {grid_search.best_params_}\")"
      ]
    },
    {
      "cell_type": "markdown",
      "metadata": {
        "id": "yUr-WLVHY7SW"
      },
      "source": [
        "## Evaluate on TEST SET"
      ]
    },
    {
      "cell_type": "code",
      "execution_count": null,
      "metadata": {
        "colab": {
          "base_uri": "https://localhost:8080/"
        },
        "id": "PpWMh07eY9N1",
        "outputId": "2817b9b0-adc1-4236-a9c2-e427f787df51"
      },
      "outputs": [
        {
          "name": "stdout",
          "output_type": "stream",
          "text": [
            "\n",
            "Test Set Evaluation:\n",
            "Accuracy: 0.889\n",
            "Precision: 0.883\n",
            "Recall: 0.897\n",
            "F1-Score: 0.890\n",
            "\n",
            "Classification Report:\n",
            "              precision    recall  f1-score   support\n",
            "\n",
            "           0       0.90      0.88      0.89      2495\n",
            "           1       0.88      0.90      0.89      2505\n",
            "\n",
            "    accuracy                           0.89      5000\n",
            "   macro avg       0.89      0.89      0.89      5000\n",
            "weighted avg       0.89      0.89      0.89      5000\n",
            "\n",
            "\n",
            "Confusion Matrix:\n",
            "[[2197  298]\n",
            " [ 257 2248]]\n"
          ]
        }
      ],
      "source": [
        "# Best model\n",
        "best_model = grid_search.best_estimator_\n",
        "\n",
        "# Evaluate the best model on the test set\n",
        "y_pred = best_model.predict(X_test)\n",
        "\n",
        "# Performance metrics\n",
        "print(\"\\nTest Set Evaluation:\")\n",
        "print(f\"Accuracy: {accuracy_score(y_test, y_pred):.3f}\")\n",
        "print(f\"Precision: {precision_score(y_test, y_pred):.3f}\")\n",
        "print(f\"Recall: {recall_score(y_test, y_pred):.3f}\")\n",
        "print(f\"F1-Score: {f1_score(y_test, y_pred):.3f}\")\n",
        "print(\"\\nClassification Report:\")\n",
        "print(classification_report(y_test, y_pred))\n",
        "print(\"\\nConfusion Matrix:\")\n",
        "print(confusion_matrix(y_test, y_pred))"
      ]
    }
  ],
  "metadata": {
    "colab": {
      "provenance": []
    },
    "kernelspec": {
      "display_name": "Python 3",
      "name": "python3"
    },
    "language_info": {
      "codemirror_mode": {
        "name": "ipython",
        "version": 3
      },
      "file_extension": ".py",
      "mimetype": "text/x-python",
      "name": "python",
      "nbconvert_exporter": "python",
      "pygments_lexer": "ipython3",
      "version": "3.12.7"
    }
  },
  "nbformat": 4,
  "nbformat_minor": 0
}
